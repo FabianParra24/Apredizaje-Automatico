{
 "cells": [
  {
   "cell_type": "markdown",
   "id": "88eee32f",
   "metadata": {},
   "source": [
    "# Métodos Supervisados\n",
    "# Tarea #3 (Grupos de dos integrantes)\n",
    "## Estudiantes: Nayely Márquez y Fabián Parra\n",
    "\n",
    "Crear un ambiente de trabajo (.ipynb) basado en PYTHON3 y llamarle Tarea-3.ipynb, con las librerías que\n",
    "considere oportuno.\n",
    "\n",
    "El objetivo de la Tarea 3 consiste en elegir un conjunto de datos de mediana complejidad que no sea trivial\n",
    "(es decir, que permita alcanzar las actividades de la tarea), y aplicarle algunos algoritmos supervisados de\n",
    "su elección, de la siguiente forma:\n",
    "\n",
    "1. Investigar sobre las métricas para evaluación de los modelos de aprendizaje supervisado, tanto para\n",
    "clasificación como para regresión, debe explicar el detalle de cada métrica y plantear un ejemplo de\n",
    "cada una, según sea el caso.\n",
    "2. Elegir el dataset trazar la estrategia del problema basado en su naturaleza (regresión o clasificación).\n",
    "3. De ser necesario un pre-procesado, debe llevarlo a cabo.\n",
    "4. Aplicar 3 métodos de su elección de los vistos en clase, creando una estrategia de modificación de los\n",
    "hiper-parámetros para mejora del modelo, elección de features óptimos y elaborar un análisis completo\n",
    "de los resultados obtenidos.\n",
    "5. Ejecutar el mismo análisis anterior pero esta vez para un método de ensamble que no se haya visto\n",
    "en clase. Indique ademas, en que consisten los métodos de ensamble y cuáles son sus principales\n",
    "características.\n",
    "6. Para los puntos 4 y 5, debe de recurrir a las métricas que investigó en el punto 1.\n",
    "7. No olvide el análisis científico que se espera de esta tarea, justifique en todo momento los resultados\n",
    "y haga un buen uso de la Notebook.\n",
    "\n",
    "El entregable consiste en el url de la notebook Tarea-3.ipynb en GITHUB o COLLAB. Enviar al TEC\n",
    "Digital un archivo .txt con el url de la Notebook, en la fecha acordada en clase, envíos pasado el limite de\n",
    "entrega se aplicará la penalizaci´on discutida en clase."
   ]
  },
  {
   "cell_type": "markdown",
   "id": "c6917eac",
   "metadata": {},
   "source": [
    "En clasificación hay varias **métricas** para evaluar los modelos y normalmente se conocen como **Indicadores de desempeño**.\n",
    "\n",
    "Los principales para **modelos de clasificación** son:\n",
    "    \n",
    "**1. Matriz de confusión**\n",
    "\n",
    "Contiene información de las predicciones realizadas por el modelo, comparando los elementos de la predicción con la clase a la que estos pertenecen realmente.\n",
    "\n",
    "Ejemplo para clasificación de dos clases:\n",
    "    \n",
    "| Valores    |     Valor Predicho     |  |\n",
    "|------------|----------|----------|\n",
    "| Valor Real | Negativo | Positivo |\n",
    "| Negativo   |     a    |     b    |\n",
    "| Positivo   |      c   |     d    |\n",
    "\n",
    "En este ejemplo tenemos dos clases de clasificación, **Negativo** y **Positivo**.\n",
    "Donde:\n",
    "- a representa los elementos de la clase **Negativo** que se clasificaron **bien** con la predicción del modelo. \n",
    "- b representa los elementos de la clase **Negativo** que se clasificaron **mal** con la predicción del modelo.\n",
    "- c representa los elementos de la clase **Positivo** que se clasificaron **mal** con la predicción del modelo.\n",
    "- d representa los elementos de la clase **Positivo** que se clasificaron **bien** con la predicción del modelo.\n",
    "\n",
    "Con la Matriz de Confusión se pueden calcular varios indicadores:\n",
    "\n",
    "- **Error(e)** Es la proporción de predicciones **incorrectas** conrespecto al total\n",
    "\n",
    "    $e=\\frac{(b+c)}{(a+b+c+d)}$\n",
    "\n",
    "- **Falso Positivo (FP)** es la proporción de casos negativos que se clasificaron erroneamente como positivos\n",
    "\n",
    "    $FP=\\frac{b}{(a+b)}$\n",
    "    \n",
    "- **Falso Negativo (FN)** es la proporción de casos positivos que se clasificaron erroneamente como negativos\n",
    "\n",
    "    $FN=\\frac{c}{(c+d)}$\n",
    "\n",
    "- **Precisión (p)** Es la proporción de predicciones **correctas** conrespecto al total\n",
    "\n",
    "    $p=\\frac{(a+d)}{(a+b+c+d)}$\n",
    "\n",
    "- **Precisión Positiva (PP)** es la proporción de casos positivos que se clasificaron correctamente como positivos\n",
    "\n",
    "    $PP=\\frac{d}{(c+d)}$\n",
    "    \n",
    "- **Precisión Negativa (PN)** es la proporción de casos negativos que se clasificaron erroneamente como negativos\n",
    "\n",
    "    $PN=\\frac{a}{(a+b)}$\n",
    "\n",
    "\n",
    "    "
   ]
  },
  {
   "cell_type": "markdown",
   "id": "7c068ce9",
   "metadata": {},
   "source": [
    "Ejemplo:\n",
    "\n",
    "Se utiliza un modelo que clasifica clientes como buenos o malos."
   ]
  },
  {
   "cell_type": "code",
   "execution_count": 1,
   "id": "144ccfc2",
   "metadata": {},
   "outputs": [
    {
     "name": "stdout",
     "output_type": "stream",
     "text": [
      "Matriz de confusión\n",
      "[[3 2]\n",
      " [1 4]]\n",
      "==============================================\n",
      "Clientes malos clasificados correctamente (a) 3\n",
      "Clientes malos clasificados incorrectamente (b) 2\n",
      "Clientes buenos clasificados incorrectamente (c) 1\n",
      "Clientes buenos clasificados correctamente (d) 4\n",
      "==============================================\n",
      "Indicadores:\n",
      "Error: 0.3\n",
      "FP: 0.4\n",
      "FN: 0.2\n",
      "Precisión: 0.7\n",
      "PP: 0.8\n",
      "PN: 0.6\n"
     ]
    }
   ],
   "source": [
    "from sklearn.metrics import confusion_matrix\n",
    "\n",
    "y_true = [0, 0, 0, 1, 1, 1, 1, 1,0,0]\n",
    "y_pred = [0, 1, 0, 1, 0, 1, 1, 1,0,1]\n",
    "\n",
    "print(\"Matriz de confusión\")\n",
    "print(confusion_matrix(y_true, y_pred))\n",
    "\n",
    "a, b, c, d = confusion_matrix(y_true, y_pred).ravel()\n",
    "\n",
    "print(\"==============================================\")\n",
    "print(\"Clientes malos clasificados correctamente (a)\",a) \n",
    "print(\"Clientes malos clasificados incorrectamente (b)\",b) \n",
    "print(\"Clientes buenos clasificados incorrectamente (c)\",c) \n",
    "print(\"Clientes buenos clasificados correctamente (d)\",d) \n",
    "\n",
    "print(\"==============================================\")\n",
    "print(\"Indicadores:\")\n",
    "\n",
    "print(\"Error:\",(b+c)/(a+b+c+d))\n",
    "print(\"FP:\",(b)/(a+b))\n",
    "print(\"FN:\",(c)/(c+d))\n",
    "\n",
    "print(\"Precisión:\",(a+d)/(a+b+c+d))\n",
    "print(\"PP:\",(d)/(c+d))\n",
    "print(\"PN:\",(a)/(a+b))\n"
   ]
  },
  {
   "cell_type": "markdown",
   "id": "360f6b0e",
   "metadata": {},
   "source": [
    "El **error** también se puede obtener utilizando:"
   ]
  },
  {
   "cell_type": "code",
   "execution_count": 2,
   "id": "fbf148e1",
   "metadata": {},
   "outputs": [
    {
     "data": {
      "text/plain": [
       "0.3"
      ]
     },
     "execution_count": 2,
     "metadata": {},
     "output_type": "execute_result"
    }
   ],
   "source": [
    "from sklearn.metrics import hamming_loss\n",
    "hamming_loss(y_true, y_pred)"
   ]
  },
  {
   "cell_type": "markdown",
   "id": "41d01674",
   "metadata": {},
   "source": [
    "La **precisión** se puede obtener utilizando:"
   ]
  },
  {
   "cell_type": "code",
   "execution_count": 3,
   "id": "04fafe0c",
   "metadata": {},
   "outputs": [
    {
     "data": {
      "text/plain": [
       "0.7"
      ]
     },
     "execution_count": 3,
     "metadata": {},
     "output_type": "execute_result"
    }
   ],
   "source": [
    "from sklearn.metrics import accuracy_score\n",
    "accuracy_score(y_true, y_pred)"
   ]
  },
  {
   "attachments": {
    "image.png": {
     "image/png": "[encoded data removed]"
    }
   },
   "cell_type": "markdown",
   "id": "8c257b62",
   "metadata": {},
   "source": [
    "**2. AUC: Área bajo la curva ROC**  \n",
    "La curva ROC es un gráfico que muestra el rendimiento del modelo en todos los umbrales de clasificación.\n",
    "Se grafican los FP en el eje x y la PP en el eje y en diferenter umbrales.\n",
    "\n",
    "El gráfico se ve de la siguiente forma:\n",
    "![image.png](attachment:image.png)\n",
    "\n",
    "El AUC mide toda el área por debajo de la curva ROC, va de 0 a 1. \n",
    "En la imagen de ejemplo es de 0.79, se busca que esté entre 0.6 y 0.9, ya que menor a 0.6 indica que el modelo no predice bien y mayor a 0.9 indica que hay sobreajuste.\n",
    "\n",
    "Podemos hacer el cálculo de los datos del ejemplo anterior con la siguiente función:"
   ]
  },
  {
   "cell_type": "code",
   "execution_count": 4,
   "id": "fb1b3b95",
   "metadata": {},
   "outputs": [
    {
     "data": {
      "text/plain": [
       "0.7000000000000001"
      ]
     },
     "execution_count": 4,
     "metadata": {},
     "output_type": "execute_result"
    }
   ],
   "source": [
    "from sklearn.metrics import roc_auc_score\n",
    "roc_auc_score(y_true, y_pred)"
   ]
  },
  {
   "cell_type": "markdown",
   "id": "b5eb6fdb",
   "metadata": {},
   "source": [
    "Para **modelos de regresión** las principales métricas son:\n",
    "\n",
    "**1. Varianza explicada**\n",
    "\n",
    "Esta se calcula:\n",
    "\n",
    "$var.explicada(y,\\hat y)=1- \\frac{Var(y-\\hat y)}{Var(y)}$\n",
    "\n",
    "Donde el $\\hat y$ corresponde a los valores predichos y el mejor valor posible de la varianza explicada es 1.\n",
    "\n",
    "Podemos hacer el cálculo con la función **explained_variance_score**.\n",
    "\n",
    "Ejemplo donde los valores predichos se acercan a los valores reales."
   ]
  },
  {
   "cell_type": "code",
   "execution_count": 5,
   "id": "37c732a3",
   "metadata": {},
   "outputs": [
    {
     "data": {
      "text/plain": [
       "0.9571734475374732"
      ]
     },
     "execution_count": 5,
     "metadata": {},
     "output_type": "execute_result"
    }
   ],
   "source": [
    "from sklearn.metrics import explained_variance_score\n",
    "y_true = [3, -0.5, 2, 7]\n",
    "y_pred = [2.5, 0.0, 2, 8]\n",
    "explained_variance_score(y_true, y_pred)"
   ]
  },
  {
   "cell_type": "markdown",
   "id": "9ed9a3ad",
   "metadata": {},
   "source": [
    "Ejemplo donde los valores predichos no se acercan a los valores reales."
   ]
  },
  {
   "cell_type": "code",
   "execution_count": 6,
   "id": "1c6c411a",
   "metadata": {},
   "outputs": [
    {
     "data": {
      "text/plain": [
       "0.2633832976445396"
      ]
     },
     "execution_count": 6,
     "metadata": {},
     "output_type": "execute_result"
    }
   ],
   "source": [
    "y_true = [3, -0.5, 2, 7]\n",
    "y_pred = [1.5, 3.0, 4, 5]\n",
    "explained_variance_score(y_true, y_pred)"
   ]
  },
  {
   "cell_type": "markdown",
   "id": "ae5719f6",
   "metadata": {},
   "source": [
    "**2. Error Absoluto Medio (MAE)**\n",
    "\n",
    "El error absoluto medio (MAE) se calcula:\n",
    "\n",
    "$MAE(y,\\hat y)=\\frac{1}{n} * \\sum_{i=0}^{n-1} |y_i-\\hat y_i|$\n",
    "\n",
    "Donde $\\hat y_i$ es el valor predicho de la i-ésima muestra y $ y_i$ es el valor verdadero.\n",
    "\n",
    "Ejemplo donde los valores predichos se acercan a los valores reales."
   ]
  },
  {
   "cell_type": "code",
   "execution_count": 7,
   "id": "695289e2",
   "metadata": {},
   "outputs": [
    {
     "data": {
      "text/plain": [
       "0.5"
      ]
     },
     "execution_count": 7,
     "metadata": {},
     "output_type": "execute_result"
    }
   ],
   "source": [
    "from sklearn.metrics import mean_absolute_error\n",
    "y_true = [3, -0.5, 2, 7]\n",
    "y_pred = [2.5, 0.0, 2, 8]\n",
    "mean_absolute_error(y_true, y_pred)"
   ]
  },
  {
   "cell_type": "markdown",
   "id": "5d8dad69",
   "metadata": {},
   "source": [
    "Ejemplo donde los valores predichos no se acercan a los valores reales."
   ]
  },
  {
   "cell_type": "code",
   "execution_count": 8,
   "id": "2553148f",
   "metadata": {},
   "outputs": [
    {
     "data": {
      "text/plain": [
       "2.25"
      ]
     },
     "execution_count": 8,
     "metadata": {},
     "output_type": "execute_result"
    }
   ],
   "source": [
    "y_true = [3, -0.5, 2, 7]\n",
    "y_pred = [1.5, 3.0, 4, 5]\n",
    "mean_absolute_error(y_true, y_pred)"
   ]
  },
  {
   "cell_type": "markdown",
   "id": "6012509c",
   "metadata": {},
   "source": [
    "**3. Error cuadrático medio (MSE)**\n",
    "\n",
    "El MSE se calcula:\n",
    "\n",
    "$MSE(y,\\hat y)=\\frac{1}{n} * \\sum_{i=0}^{n-1} (y_i-\\hat y_i)^2$\n",
    "\n",
    "Donde $\\hat y_i$ es el valor predicho de la i-ésima muestra y $ y_i$ es el valor verdadero.\n",
    "\n",
    "Ejemplo donde los valores predichos se acercan a los valores reales."
   ]
  },
  {
   "cell_type": "code",
   "execution_count": 9,
   "id": "06874e1b",
   "metadata": {},
   "outputs": [
    {
     "data": {
      "text/plain": [
       "0.375"
      ]
     },
     "execution_count": 9,
     "metadata": {},
     "output_type": "execute_result"
    }
   ],
   "source": [
    "from sklearn.metrics import mean_squared_error\n",
    "y_true = [3, -0.5, 2, 7]\n",
    "y_pred = [2.5, 0.0, 2, 8]\n",
    "mean_squared_error(y_true, y_pred)"
   ]
  },
  {
   "cell_type": "markdown",
   "id": "861b7855",
   "metadata": {},
   "source": [
    "Ejemplo donde los valores predichos no se acercan a los valores reales."
   ]
  },
  {
   "cell_type": "code",
   "execution_count": 10,
   "id": "0d6ad863",
   "metadata": {},
   "outputs": [
    {
     "data": {
      "text/plain": [
       "5.625"
      ]
     },
     "execution_count": 10,
     "metadata": {},
     "output_type": "execute_result"
    }
   ],
   "source": [
    "y_true = [3, -0.5, 2, 7]\n",
    "y_pred = [1.5, 3.0, 4, 5]\n",
    "mean_squared_error(y_true, y_pred)"
   ]
  },
  {
   "cell_type": "markdown",
   "id": "52f8963d",
   "metadata": {},
   "source": [
    "**4. Coeficiente de determinación** $R^2$ \n",
    "\n",
    "El $R^2$ representa la proporción de la varianza de **y** explicada por los predictores del modelo\n",
    "\n",
    "El $R^2$ se calcula:\n",
    "\n",
    "$R^2= 1- \\frac{\\sum_{i=0}^{n-1} (y_i-\\hat y_i)^2}{\\sum_{i=0}^{n-1} (y_i-\\bar y_i)^2}  $\n",
    "\n",
    "Donde $\\hat y_i$ es el valor predicho de la i-ésima muestra, $ y_i$ es el valor verdadero y $\\bar y_i= \\frac{\\sum_{i=0}^{n-1} y_i}{n}$.\n",
    "\n",
    "Ejemplo donde los valores predichos se acercan a los valores reales."
   ]
  },
  {
   "cell_type": "code",
   "execution_count": 11,
   "id": "c65ed5ea",
   "metadata": {},
   "outputs": [
    {
     "data": {
      "text/plain": [
       "0.9486081370449679"
      ]
     },
     "execution_count": 11,
     "metadata": {},
     "output_type": "execute_result"
    }
   ],
   "source": [
    "from sklearn.metrics import r2_score\n",
    "y_true = [3, -0.5, 2, 7]\n",
    "y_pred = [2.5, 0.0, 2, 8]\n",
    "r2_score(y_true, y_pred)"
   ]
  },
  {
   "cell_type": "markdown",
   "id": "f79b9aab",
   "metadata": {},
   "source": [
    "Ejemplo donde los valores predichos no se acercan a los valores reales."
   ]
  },
  {
   "cell_type": "code",
   "execution_count": 12,
   "id": "99423acb",
   "metadata": {},
   "outputs": [
    {
     "data": {
      "text/plain": [
       "0.22912205567451815"
      ]
     },
     "execution_count": 12,
     "metadata": {},
     "output_type": "execute_result"
    }
   ],
   "source": [
    "y_true = [3, -0.5, 2, 7]\n",
    "y_pred = [1.5, 3.0, 4, 5]\n",
    "r2_score(y_true, y_pred)"
   ]
  },
  {
   "cell_type": "markdown",
   "id": "30ce09fc",
   "metadata": {},
   "source": [
    "**Datos**\n",
    "\n",
    "Este dataset se utiliza para predecir si un paciente puede sufrir un accidente cerebrovascular en función de variables como el sexo, la edad, diversas enfermedades y el tabaquismo.\n"
   ]
  },
  {
   "cell_type": "code",
   "execution_count": 13,
   "id": "8eef2706",
   "metadata": {},
   "outputs": [
    {
     "data": {
      "text/html": [
       "<div>\n",
       "<style scoped>\n",
       "    .dataframe tbody tr th:only-of-type {\n",
       "        vertical-align: middle;\n",
       "    }\n",
       "\n",
       "    .dataframe tbody tr th {\n",
       "        vertical-align: top;\n",
       "    }\n",
       "\n",
       "    .dataframe thead th {\n",
       "        text-align: right;\n",
       "    }\n",
       "</style>\n",
       "<table border=\"1\" class=\"dataframe\">\n",
       "  <thead>\n",
       "    <tr style=\"text-align: right;\">\n",
       "      <th></th>\n",
       "      <th>id</th>\n",
       "      <th>gender</th>\n",
       "      <th>age</th>\n",
       "      <th>hypertension</th>\n",
       "      <th>heart_disease</th>\n",
       "      <th>ever_married</th>\n",
       "      <th>work_type</th>\n",
       "      <th>Residence_type</th>\n",
       "      <th>avg_glucose_level</th>\n",
       "      <th>bmi</th>\n",
       "      <th>smoking_status</th>\n",
       "      <th>stroke</th>\n",
       "    </tr>\n",
       "  </thead>\n",
       "  <tbody>\n",
       "    <tr>\n",
       "      <th>0</th>\n",
       "      <td>9046</td>\n",
       "      <td>Male</td>\n",
       "      <td>67.0</td>\n",
       "      <td>0</td>\n",
       "      <td>1</td>\n",
       "      <td>Yes</td>\n",
       "      <td>Private</td>\n",
       "      <td>Urban</td>\n",
       "      <td>228.69</td>\n",
       "      <td>36.6</td>\n",
       "      <td>formerly smoked</td>\n",
       "      <td>1</td>\n",
       "    </tr>\n",
       "    <tr>\n",
       "      <th>1</th>\n",
       "      <td>51676</td>\n",
       "      <td>Female</td>\n",
       "      <td>61.0</td>\n",
       "      <td>0</td>\n",
       "      <td>0</td>\n",
       "      <td>Yes</td>\n",
       "      <td>Self-employed</td>\n",
       "      <td>Rural</td>\n",
       "      <td>202.21</td>\n",
       "      <td>NaN</td>\n",
       "      <td>never smoked</td>\n",
       "      <td>1</td>\n",
       "    </tr>\n",
       "    <tr>\n",
       "      <th>2</th>\n",
       "      <td>31112</td>\n",
       "      <td>Male</td>\n",
       "      <td>80.0</td>\n",
       "      <td>0</td>\n",
       "      <td>1</td>\n",
       "      <td>Yes</td>\n",
       "      <td>Private</td>\n",
       "      <td>Rural</td>\n",
       "      <td>105.92</td>\n",
       "      <td>32.5</td>\n",
       "      <td>never smoked</td>\n",
       "      <td>1</td>\n",
       "    </tr>\n",
       "    <tr>\n",
       "      <th>3</th>\n",
       "      <td>60182</td>\n",
       "      <td>Female</td>\n",
       "      <td>49.0</td>\n",
       "      <td>0</td>\n",
       "      <td>0</td>\n",
       "      <td>Yes</td>\n",
       "      <td>Private</td>\n",
       "      <td>Urban</td>\n",
       "      <td>171.23</td>\n",
       "      <td>34.4</td>\n",
       "      <td>smokes</td>\n",
       "      <td>1</td>\n",
       "    </tr>\n",
       "    <tr>\n",
       "      <th>4</th>\n",
       "      <td>1665</td>\n",
       "      <td>Female</td>\n",
       "      <td>79.0</td>\n",
       "      <td>1</td>\n",
       "      <td>0</td>\n",
       "      <td>Yes</td>\n",
       "      <td>Self-employed</td>\n",
       "      <td>Rural</td>\n",
       "      <td>174.12</td>\n",
       "      <td>24.0</td>\n",
       "      <td>never smoked</td>\n",
       "      <td>1</td>\n",
       "    </tr>\n",
       "  </tbody>\n",
       "</table>\n",
       "</div>"
      ],
      "text/plain": [
       "      id  gender   age  hypertension  heart_disease ever_married  \\\n",
       "0   9046    Male  67.0             0              1          Yes   \n",
       "1  51676  Female  61.0             0              0          Yes   \n",
       "2  31112    Male  80.0             0              1          Yes   \n",
       "3  60182  Female  49.0             0              0          Yes   \n",
       "4   1665  Female  79.0             1              0          Yes   \n",
       "\n",
       "       work_type Residence_type  avg_glucose_level   bmi   smoking_status  \\\n",
       "0        Private          Urban             228.69  36.6  formerly smoked   \n",
       "1  Self-employed          Rural             202.21   NaN     never smoked   \n",
       "2        Private          Rural             105.92  32.5     never smoked   \n",
       "3        Private          Urban             171.23  34.4           smokes   \n",
       "4  Self-employed          Rural             174.12  24.0     never smoked   \n",
       "\n",
       "   stroke  \n",
       "0       1  \n",
       "1       1  \n",
       "2       1  \n",
       "3       1  \n",
       "4       1  "
      ]
     },
     "execution_count": 13,
     "metadata": {},
     "output_type": "execute_result"
    }
   ],
   "source": [
    "import numpy as np\n",
    "import pandas as pd\n",
    "\n",
    "data=pd.read_csv('https://raw.githubusercontent.com/FabianParra24/Apredizaje-Automatico/master/healthcare-dataset-stroke-data.csv')\n",
    "data.head()"
   ]
  },
  {
   "cell_type": "code",
   "execution_count": 14,
   "id": "c6a79a31",
   "metadata": {},
   "outputs": [
    {
     "data": {
      "text/plain": [
       "(5110, 12)"
      ]
     },
     "execution_count": 14,
     "metadata": {},
     "output_type": "execute_result"
    }
   ],
   "source": [
    "data.shape"
   ]
  },
  {
   "cell_type": "code",
   "execution_count": 15,
   "id": "8498bc1a",
   "metadata": {},
   "outputs": [],
   "source": [
    "features=[\"gender\",\"age\",\"hypertension\",\"heart_disease\",\"ever_married\",\"work_type\",\"Residence_type\",\"avg_glucose_level\",\n",
    "          \"bmi\",\"smoking_status\",\"stroke\"]\n",
    "data=data[features]"
   ]
  },
  {
   "cell_type": "markdown",
   "id": "d266abff",
   "metadata": {},
   "source": [
    "#### Limpieza de datos"
   ]
  },
  {
   "cell_type": "markdown",
   "id": "3a708584",
   "metadata": {},
   "source": [
    "Podemos saber si hay otros códigos en gender u otras columnas utilizando:"
   ]
  },
  {
   "cell_type": "code",
   "execution_count": 16,
   "id": "4851aa53",
   "metadata": {},
   "outputs": [
    {
     "data": {
      "text/plain": [
       "array(['Male', 'Female', 'Other'], dtype=object)"
      ]
     },
     "execution_count": 16,
     "metadata": {},
     "output_type": "execute_result"
    }
   ],
   "source": [
    "data['gender'].unique()"
   ]
  },
  {
   "cell_type": "code",
   "execution_count": 17,
   "id": "26fe331d",
   "metadata": {},
   "outputs": [],
   "source": [
    "data.drop(data[data['gender'] == 'Other'].index, inplace = True)"
   ]
  },
  {
   "cell_type": "code",
   "execution_count": 18,
   "id": "adda3afc",
   "metadata": {},
   "outputs": [
    {
     "data": {
      "text/plain": [
       "array(['Yes', 'No'], dtype=object)"
      ]
     },
     "execution_count": 18,
     "metadata": {},
     "output_type": "execute_result"
    }
   ],
   "source": [
    "data['ever_married'].unique()"
   ]
  },
  {
   "cell_type": "code",
   "execution_count": 19,
   "id": "d6ff4bb4",
   "metadata": {},
   "outputs": [
    {
     "data": {
      "text/plain": [
       "array(['Private', 'Self-employed', 'Govt_job', 'children', 'Never_worked'],\n",
       "      dtype=object)"
      ]
     },
     "execution_count": 19,
     "metadata": {},
     "output_type": "execute_result"
    }
   ],
   "source": [
    "data['work_type'].unique()"
   ]
  },
  {
   "cell_type": "code",
   "execution_count": 20,
   "id": "203184af",
   "metadata": {},
   "outputs": [
    {
     "data": {
      "text/plain": [
       "array(['Urban', 'Rural'], dtype=object)"
      ]
     },
     "execution_count": 20,
     "metadata": {},
     "output_type": "execute_result"
    }
   ],
   "source": [
    "data['Residence_type'].unique()"
   ]
  },
  {
   "cell_type": "code",
   "execution_count": 21,
   "id": "8556eb5b",
   "metadata": {},
   "outputs": [
    {
     "data": {
      "text/plain": [
       "array([0, 1], dtype=int64)"
      ]
     },
     "execution_count": 21,
     "metadata": {},
     "output_type": "execute_result"
    }
   ],
   "source": [
    "data['hypertension'].unique()"
   ]
  },
  {
   "cell_type": "code",
   "execution_count": 22,
   "id": "0cff346c",
   "metadata": {},
   "outputs": [
    {
     "data": {
      "text/plain": [
       "array(['formerly smoked', 'never smoked', 'smokes', 'Unknown'],\n",
       "      dtype=object)"
      ]
     },
     "execution_count": 22,
     "metadata": {},
     "output_type": "execute_result"
    }
   ],
   "source": [
    "data['smoking_status'].unique()"
   ]
  },
  {
   "cell_type": "code",
   "execution_count": 23,
   "id": "04e87ab1",
   "metadata": {},
   "outputs": [
    {
     "data": {
      "text/plain": [
       "gender                object\n",
       "age                  float64\n",
       "hypertension           int64\n",
       "heart_disease          int64\n",
       "ever_married          object\n",
       "work_type             object\n",
       "Residence_type        object\n",
       "avg_glucose_level    float64\n",
       "bmi                  float64\n",
       "smoking_status        object\n",
       "stroke                 int64\n",
       "dtype: object"
      ]
     },
     "execution_count": 23,
     "metadata": {},
     "output_type": "execute_result"
    }
   ],
   "source": [
    "data.dtypes"
   ]
  },
  {
   "cell_type": "markdown",
   "id": "b6fd88b7",
   "metadata": {},
   "source": [
    "Busacamos si tenemos valores nulos."
   ]
  },
  {
   "cell_type": "code",
   "execution_count": 24,
   "id": "4fa93c72",
   "metadata": {},
   "outputs": [
    {
     "name": "stdout",
     "output_type": "stream",
     "text": [
      "0\n",
      "0\n",
      "201\n",
      "0\n"
     ]
    }
   ],
   "source": [
    "print(data['heart_disease'].isnull().sum())\n",
    "print(data['avg_glucose_level'].isnull().sum())\n",
    "print(data['bmi'].isnull().sum())\n",
    "print(data['stroke'].isnull().sum())"
   ]
  },
  {
   "cell_type": "markdown",
   "id": "22c08880",
   "metadata": {},
   "source": [
    "Los reemplazamos con la media."
   ]
  },
  {
   "cell_type": "code",
   "execution_count": 25,
   "id": "30b1524f",
   "metadata": {},
   "outputs": [],
   "source": [
    "data.fillna(data.mean(), inplace = True)"
   ]
  },
  {
   "cell_type": "code",
   "execution_count": 26,
   "id": "d6cf88eb",
   "metadata": {},
   "outputs": [
    {
     "data": {
      "text/html": [
       "<div>\n",
       "<style scoped>\n",
       "    .dataframe tbody tr th:only-of-type {\n",
       "        vertical-align: middle;\n",
       "    }\n",
       "\n",
       "    .dataframe tbody tr th {\n",
       "        vertical-align: top;\n",
       "    }\n",
       "\n",
       "    .dataframe thead th {\n",
       "        text-align: right;\n",
       "    }\n",
       "</style>\n",
       "<table border=\"1\" class=\"dataframe\">\n",
       "  <thead>\n",
       "    <tr style=\"text-align: right;\">\n",
       "      <th></th>\n",
       "      <th>age</th>\n",
       "      <th>hypertension</th>\n",
       "      <th>heart_disease</th>\n",
       "      <th>avg_glucose_level</th>\n",
       "      <th>bmi</th>\n",
       "      <th>stroke</th>\n",
       "    </tr>\n",
       "  </thead>\n",
       "  <tbody>\n",
       "    <tr>\n",
       "      <th>count</th>\n",
       "      <td>5109.000000</td>\n",
       "      <td>5109.000000</td>\n",
       "      <td>5109.000000</td>\n",
       "      <td>5109.000000</td>\n",
       "      <td>5109.000000</td>\n",
       "      <td>5109.000000</td>\n",
       "    </tr>\n",
       "    <tr>\n",
       "      <th>mean</th>\n",
       "      <td>43.229986</td>\n",
       "      <td>0.097475</td>\n",
       "      <td>0.054022</td>\n",
       "      <td>106.140399</td>\n",
       "      <td>28.894560</td>\n",
       "      <td>0.048738</td>\n",
       "    </tr>\n",
       "    <tr>\n",
       "      <th>std</th>\n",
       "      <td>22.613575</td>\n",
       "      <td>0.296633</td>\n",
       "      <td>0.226084</td>\n",
       "      <td>45.285004</td>\n",
       "      <td>7.698235</td>\n",
       "      <td>0.215340</td>\n",
       "    </tr>\n",
       "    <tr>\n",
       "      <th>min</th>\n",
       "      <td>0.080000</td>\n",
       "      <td>0.000000</td>\n",
       "      <td>0.000000</td>\n",
       "      <td>55.120000</td>\n",
       "      <td>10.300000</td>\n",
       "      <td>0.000000</td>\n",
       "    </tr>\n",
       "    <tr>\n",
       "      <th>25%</th>\n",
       "      <td>25.000000</td>\n",
       "      <td>0.000000</td>\n",
       "      <td>0.000000</td>\n",
       "      <td>77.240000</td>\n",
       "      <td>23.800000</td>\n",
       "      <td>0.000000</td>\n",
       "    </tr>\n",
       "    <tr>\n",
       "      <th>50%</th>\n",
       "      <td>45.000000</td>\n",
       "      <td>0.000000</td>\n",
       "      <td>0.000000</td>\n",
       "      <td>91.880000</td>\n",
       "      <td>28.400000</td>\n",
       "      <td>0.000000</td>\n",
       "    </tr>\n",
       "    <tr>\n",
       "      <th>75%</th>\n",
       "      <td>61.000000</td>\n",
       "      <td>0.000000</td>\n",
       "      <td>0.000000</td>\n",
       "      <td>114.090000</td>\n",
       "      <td>32.800000</td>\n",
       "      <td>0.000000</td>\n",
       "    </tr>\n",
       "    <tr>\n",
       "      <th>max</th>\n",
       "      <td>82.000000</td>\n",
       "      <td>1.000000</td>\n",
       "      <td>1.000000</td>\n",
       "      <td>271.740000</td>\n",
       "      <td>97.600000</td>\n",
       "      <td>1.000000</td>\n",
       "    </tr>\n",
       "  </tbody>\n",
       "</table>\n",
       "</div>"
      ],
      "text/plain": [
       "               age  hypertension  heart_disease  avg_glucose_level  \\\n",
       "count  5109.000000   5109.000000    5109.000000        5109.000000   \n",
       "mean     43.229986      0.097475       0.054022         106.140399   \n",
       "std      22.613575      0.296633       0.226084          45.285004   \n",
       "min       0.080000      0.000000       0.000000          55.120000   \n",
       "25%      25.000000      0.000000       0.000000          77.240000   \n",
       "50%      45.000000      0.000000       0.000000          91.880000   \n",
       "75%      61.000000      0.000000       0.000000         114.090000   \n",
       "max      82.000000      1.000000       1.000000         271.740000   \n",
       "\n",
       "               bmi       stroke  \n",
       "count  5109.000000  5109.000000  \n",
       "mean     28.894560     0.048738  \n",
       "std       7.698235     0.215340  \n",
       "min      10.300000     0.000000  \n",
       "25%      23.800000     0.000000  \n",
       "50%      28.400000     0.000000  \n",
       "75%      32.800000     0.000000  \n",
       "max      97.600000     1.000000  "
      ]
     },
     "execution_count": 26,
     "metadata": {},
     "output_type": "execute_result"
    }
   ],
   "source": [
    "data.describe()"
   ]
  },
  {
   "cell_type": "markdown",
   "id": "993a1594",
   "metadata": {},
   "source": [
    "Observemos los datos atípicos"
   ]
  },
  {
   "cell_type": "code",
   "execution_count": 27,
   "id": "a8552a41",
   "metadata": {},
   "outputs": [],
   "source": [
    "import bokeh as bkh\n",
    "import numpy as np\n",
    "import pandas as pd\n",
    "from matplotlib import pyplot as plt\n",
    "import seaborn as sns\n",
    "%matplotlib inline\n",
    "import statistics as st\n",
    "\n",
    "\n",
    "def plot_data(df, col_x, col_y, label_x, label_y, val_title):\n",
    "    # Imprime gráfica de dispersión. \n",
    "    \n",
    "    plt.figure(figsize=(7,7))\n",
    "    plt.scatter(x=df[col_x],y=df[col_y])\n",
    "    plt.xlabel(label_x)\n",
    "    plt.ylabel(label_y)\n",
    "    plt.title(val_title)\n",
    "    plt.show()\n",
    "    "
   ]
  },
  {
   "cell_type": "markdown",
   "id": "bfc0b35a",
   "metadata": {},
   "source": [
    "Notamos que en relación de age y el nivel de glucosa promedio no encontramos valores extremos, por lo que decidimos no eliminar valores."
   ]
  },
  {
   "cell_type": "code",
   "execution_count": 28,
   "id": "7ae30def",
   "metadata": {},
   "outputs": [
    {
     "data": {
      "image/png": "[encoded data removed]",
      "text/plain": [
       "<Figure size 504x504 with 1 Axes>"
      ]
     },
     "metadata": {
      "needs_background": "light"
     },
     "output_type": "display_data"
    }
   ],
   "source": [
    "plot_data(data, 'age', 'avg_glucose_level', 'age', 'avg_glucose_level',\n",
    "          'Relación avg_glucose_level - age') "
   ]
  },
  {
   "cell_type": "markdown",
   "id": "1e2f640a",
   "metadata": {},
   "source": [
    "Sin embargo, para la comparacion de los niveles de glucosa y el bmi, si hay algunos valores extremos. Eliminamos los mayores a 70."
   ]
  },
  {
   "cell_type": "code",
   "execution_count": 29,
   "id": "3c5dc34b",
   "metadata": {},
   "outputs": [
    {
     "data": {
      "image/png": "[encoded data removed]",
      "text/plain": [
       "<Figure size 504x504 with 1 Axes>"
      ]
     },
     "metadata": {
      "needs_background": "light"
     },
     "output_type": "display_data"
    }
   ],
   "source": [
    "plot_data(data, 'bmi', 'avg_glucose_level', 'bmi', 'avg_glucose_level',\n",
    "          'Relación avg_glucose_level - bmi')\n",
    "data=data[data.bmi <=70]"
   ]
  },
  {
   "cell_type": "code",
   "execution_count": 30,
   "id": "6ed5ce64",
   "metadata": {},
   "outputs": [
    {
     "data": {
      "image/png": "[encoded data removed]",
      "text/plain": [
       "<Figure size 504x504 with 1 Axes>"
      ]
     },
     "metadata": {
      "needs_background": "light"
     },
     "output_type": "display_data"
    }
   ],
   "source": [
    "plot_data(data, 'bmi', 'avg_glucose_level', 'bmi', 'avg_glucose_level',\n",
    "          'Relación avg_glucose_level - bmi')"
   ]
  },
  {
   "cell_type": "markdown",
   "id": "66174725",
   "metadata": {},
   "source": [
    "El gráfico  de calor nos destaca las correlaciones entre todas las variables, donde colores más fuertes representan correlacciones más altas, siendo azul correlación negativa y rojo positiva.\n",
    "\n",
    "Si queremos crear este gráfico solo es necesario utilizar la función con nuestros datos."
   ]
  },
  {
   "cell_type": "code",
   "execution_count": 31,
   "id": "b3a5169e",
   "metadata": {},
   "outputs": [
    {
     "data": {
      "image/png": "[encoded data removed]",
      "text/plain": [
       "<Figure size 1080x720 with 2 Axes>"
      ]
     },
     "metadata": {
      "needs_background": "light"
     },
     "output_type": "display_data"
    }
   ],
   "source": [
    "def correlation_heatmap(df1):\n",
    "    _,ax=plt.subplots(figsize=(15,10))\n",
    "    colormap=sns.diverging_palette(220,10,as_cmap=True)\n",
    "    sns.heatmap(data.corr(),annot=True,cmap=colormap)\n",
    "    \n",
    "correlation_heatmap(data)"
   ]
  },
  {
   "cell_type": "markdown",
   "id": "3367c7e0",
   "metadata": {},
   "source": [
    "Vemos que no hay correlaciones muy fuertes, asi que no eliminamos ninguna variable."
   ]
  },
  {
   "cell_type": "markdown",
   "id": "863f4046",
   "metadata": {},
   "source": [
    "Remplazamos los valores categoricos por valores enteros para que sean parte del modelo."
   ]
  },
  {
   "cell_type": "code",
   "execution_count": 32,
   "id": "0a522bc9",
   "metadata": {},
   "outputs": [],
   "source": [
    "import numpy as np\n",
    "import pandas as pd\n",
    "import matplotlib.pyplot as plt\n",
    "import seaborn as sns\n",
    "import scipy.stats as stats"
   ]
  },
  {
   "cell_type": "code",
   "execution_count": 33,
   "id": "ecb428ac",
   "metadata": {},
   "outputs": [
    {
     "data": {
      "text/html": [
       "<div>\n",
       "<style scoped>\n",
       "    .dataframe tbody tr th:only-of-type {\n",
       "        vertical-align: middle;\n",
       "    }\n",
       "\n",
       "    .dataframe tbody tr th {\n",
       "        vertical-align: top;\n",
       "    }\n",
       "\n",
       "    .dataframe thead th {\n",
       "        text-align: right;\n",
       "    }\n",
       "</style>\n",
       "<table border=\"1\" class=\"dataframe\">\n",
       "  <thead>\n",
       "    <tr style=\"text-align: right;\">\n",
       "      <th></th>\n",
       "      <th>count</th>\n",
       "      <th>unique</th>\n",
       "      <th>top</th>\n",
       "      <th>freq</th>\n",
       "    </tr>\n",
       "  </thead>\n",
       "  <tbody>\n",
       "    <tr>\n",
       "      <th>gender</th>\n",
       "      <td>5105</td>\n",
       "      <td>2</td>\n",
       "      <td>Female</td>\n",
       "      <td>2993</td>\n",
       "    </tr>\n",
       "    <tr>\n",
       "      <th>ever_married</th>\n",
       "      <td>5105</td>\n",
       "      <td>2</td>\n",
       "      <td>Yes</td>\n",
       "      <td>3351</td>\n",
       "    </tr>\n",
       "    <tr>\n",
       "      <th>work_type</th>\n",
       "      <td>5105</td>\n",
       "      <td>5</td>\n",
       "      <td>Private</td>\n",
       "      <td>2920</td>\n",
       "    </tr>\n",
       "    <tr>\n",
       "      <th>Residence_type</th>\n",
       "      <td>5105</td>\n",
       "      <td>2</td>\n",
       "      <td>Urban</td>\n",
       "      <td>2595</td>\n",
       "    </tr>\n",
       "    <tr>\n",
       "      <th>smoking_status</th>\n",
       "      <td>5105</td>\n",
       "      <td>4</td>\n",
       "      <td>never smoked</td>\n",
       "      <td>1890</td>\n",
       "    </tr>\n",
       "  </tbody>\n",
       "</table>\n",
       "</div>"
      ],
      "text/plain": [
       "               count unique           top  freq\n",
       "gender          5105      2        Female  2993\n",
       "ever_married    5105      2           Yes  3351\n",
       "work_type       5105      5       Private  2920\n",
       "Residence_type  5105      2         Urban  2595\n",
       "smoking_status  5105      4  never smoked  1890"
      ]
     },
     "execution_count": 33,
     "metadata": {},
     "output_type": "execute_result"
    }
   ],
   "source": [
    "data.describe(include=object).T"
   ]
  },
  {
   "cell_type": "code",
   "execution_count": 34,
   "id": "f641d374",
   "metadata": {},
   "outputs": [],
   "source": [
    "categorical = data.select_dtypes('object').columns"
   ]
  },
  {
   "cell_type": "code",
   "execution_count": 35,
   "id": "1ec4fe5b",
   "metadata": {},
   "outputs": [],
   "source": [
    "data[\"gender\"]=data[\"gender\"].replace({'Male':0, 'Female':1,'Other':2 })"
   ]
  },
  {
   "cell_type": "code",
   "execution_count": 36,
   "id": "b399cfa5",
   "metadata": {},
   "outputs": [],
   "source": [
    "data['ever_married']=data['ever_married'].replace({'No':0, 'Yes':1})"
   ]
  },
  {
   "cell_type": "code",
   "execution_count": 37,
   "id": "02995937",
   "metadata": {},
   "outputs": [],
   "source": [
    "data['Residence_type']=data['Residence_type'].replace({'Urban':0, 'Rural':1})"
   ]
  },
  {
   "cell_type": "code",
   "execution_count": 38,
   "id": "5b0e7c82",
   "metadata": {},
   "outputs": [],
   "source": [
    "data['work_type']=data['work_type'].replace({'Private':0, 'Self-employed':1, 'Govt_job': 2, 'children': 3, 'Never_worked': 4})"
   ]
  },
  {
   "cell_type": "code",
   "execution_count": 39,
   "id": "72b48368",
   "metadata": {},
   "outputs": [],
   "source": [
    "data['smoking_status']=data['smoking_status'].replace({'formerly smoked':0, 'never smoked':1, 'smokes': 2\n",
    "                                                       , 'Unknown': 3})"
   ]
  },
  {
   "cell_type": "markdown",
   "id": "fea03ec2",
   "metadata": {},
   "source": [
    "#### Aplicación de 3 métodos de su elección de los vistos en clase"
   ]
  },
  {
   "cell_type": "code",
   "execution_count": 40,
   "id": "038b647e",
   "metadata": {},
   "outputs": [],
   "source": [
    "from sklearn.model_selection import train_test_split\n",
    "from sklearn.tree import DecisionTreeClassifier \n",
    "from sklearn.ensemble import RandomForestClassifier\n",
    "from sklearn.neighbors import KNeighborsClassifier\n",
    "from sklearn.metrics import accuracy_score,confusion_matrix,roc_curve, roc_auc_score, plot_confusion_matrix\n",
    "from sklearn.ensemble import BaggingClassifier\n",
    "from sklearn.datasets import make_classification\n",
    "from sklearn.svm import SVC"
   ]
  },
  {
   "cell_type": "markdown",
   "id": "83538e5b",
   "metadata": {},
   "source": [
    "Se dividen los datos en entrenamiento y prueba."
   ]
  },
  {
   "cell_type": "code",
   "execution_count": 41,
   "id": "c94c427d",
   "metadata": {},
   "outputs": [
    {
     "name": "stdout",
     "output_type": "stream",
     "text": [
      "0       1\n",
      "1       1\n",
      "2       1\n",
      "3       1\n",
      "4       1\n",
      "       ..\n",
      "5105    0\n",
      "5106    0\n",
      "5107    0\n",
      "5108    0\n",
      "5109    0\n",
      "Name: stroke, Length: 5105, dtype: int64\n",
      "      gender   age  hypertension  heart_disease  ever_married  work_type  \\\n",
      "0          0  67.0             0              1             1          0   \n",
      "1          1  61.0             0              0             1          1   \n",
      "2          0  80.0             0              1             1          0   \n",
      "3          1  49.0             0              0             1          0   \n",
      "4          1  79.0             1              0             1          1   \n",
      "...      ...   ...           ...            ...           ...        ...   \n",
      "5105       1  80.0             1              0             1          0   \n",
      "5106       1  81.0             0              0             1          1   \n",
      "5107       1  35.0             0              0             1          1   \n",
      "5108       0  51.0             0              0             1          0   \n",
      "5109       1  44.0             0              0             1          2   \n",
      "\n",
      "      Residence_type  avg_glucose_level       bmi  smoking_status  \n",
      "0                  0             228.69  36.60000               0  \n",
      "1                  1             202.21  28.89456               1  \n",
      "2                  1             105.92  32.50000               1  \n",
      "3                  0             171.23  34.40000               2  \n",
      "4                  1             174.12  24.00000               1  \n",
      "...              ...                ...       ...             ...  \n",
      "5105               0              83.75  28.89456               1  \n",
      "5106               0             125.20  40.00000               1  \n",
      "5107               1              82.99  30.60000               1  \n",
      "5108               1             166.29  25.60000               0  \n",
      "5109               0              85.28  26.20000               3  \n",
      "\n",
      "[5105 rows x 10 columns]\n"
     ]
    }
   ],
   "source": [
    "y = data.iloc[:,10]\n",
    "X = data.iloc[:,:10]\n",
    "print(y)\n",
    "print(X)"
   ]
  },
  {
   "cell_type": "code",
   "execution_count": 67,
   "id": "561281d5",
   "metadata": {},
   "outputs": [],
   "source": [
    "X_train, X_test, y_train, y_test = train_test_split(X, y, test_size=0.2, random_state=42)"
   ]
  },
  {
   "cell_type": "code",
   "execution_count": 68,
   "id": "b0d09d5a",
   "metadata": {},
   "outputs": [
    {
     "name": "stdout",
     "output_type": "stream",
     "text": [
      "      gender   age  hypertension  heart_disease  ever_married  work_type  \\\n",
      "4164       1  82.0             1              0             1          0   \n",
      "4090       1  42.0             0              0             1          2   \n",
      "946        1  47.0             0              0             1          0   \n",
      "2354       0  20.0             0              0             0          0   \n",
      "3429       1  62.0             0              0             1          0   \n",
      "...      ...   ...           ...            ...           ...        ...   \n",
      "4431       1  57.0             0              0             1          0   \n",
      "466        1  61.0             1              0             1          0   \n",
      "3095       0  32.0             0              0             0          0   \n",
      "3776       0  19.0             0              0             0          0   \n",
      "861        0  71.0             0              0             0          0   \n",
      "\n",
      "      Residence_type  avg_glucose_level       bmi  smoking_status  \n",
      "4164               0             222.52  28.89456               0  \n",
      "4090               0              59.43  25.40000               1  \n",
      "946                1             204.63  43.40000               1  \n",
      "2354               1              87.08  27.10000               1  \n",
      "3429               1              98.05  27.90000               1  \n",
      "...              ...                ...       ...             ...  \n",
      "4431               1              64.37  32.80000               1  \n",
      "466                1             170.05  60.20000               2  \n",
      "3095               0              79.54  28.10000               3  \n",
      "3776               0             119.58  24.80000               3  \n",
      "861                0              95.08  31.50000               1  \n",
      "\n",
      "[4084 rows x 10 columns]\n"
     ]
    }
   ],
   "source": [
    "X_train.shape\n",
    "\n",
    "print(X_train)"
   ]
  },
  {
   "cell_type": "code",
   "execution_count": 69,
   "id": "d5417e32",
   "metadata": {},
   "outputs": [
    {
     "data": {
      "text/plain": [
       "(1021, 10)"
      ]
     },
     "execution_count": 69,
     "metadata": {},
     "output_type": "execute_result"
    }
   ],
   "source": [
    "X_test.shape"
   ]
  },
  {
   "cell_type": "code",
   "execution_count": 70,
   "id": "4b922793",
   "metadata": {},
   "outputs": [
    {
     "data": {
      "text/plain": [
       "(4084,)"
      ]
     },
     "execution_count": 70,
     "metadata": {},
     "output_type": "execute_result"
    }
   ],
   "source": [
    "y_train.shape"
   ]
  },
  {
   "cell_type": "code",
   "execution_count": 71,
   "id": "dcda2941",
   "metadata": {},
   "outputs": [
    {
     "data": {
      "text/plain": [
       "(1021,)"
      ]
     },
     "execution_count": 71,
     "metadata": {},
     "output_type": "execute_result"
    }
   ],
   "source": [
    "y_test.shape"
   ]
  },
  {
   "cell_type": "markdown",
   "id": "181b6d94",
   "metadata": {},
   "source": [
    "#### 1. Decision Trees"
   ]
  },
  {
   "cell_type": "markdown",
   "id": "6bc30437",
   "metadata": {},
   "source": [
    "En primer lugar se crearan varios modelos cambiando la profundidad máxima de los árboles de decisión y se elige el que tiene una profundidad de 3. "
   ]
  },
  {
   "cell_type": "code",
   "execution_count": 72,
   "id": "ce94193d",
   "metadata": {},
   "outputs": [
    {
     "data": {
      "text/plain": [
       "DecisionTreeClassifier(max_depth=3)"
      ]
     },
     "execution_count": 72,
     "metadata": {},
     "output_type": "execute_result"
    }
   ],
   "source": [
    "DecisionTreeModel = DecisionTreeClassifier(max_depth=3)\n",
    "DecisionTreeModel.fit(X_train, y_train)"
   ]
  },
  {
   "cell_type": "code",
   "execution_count": 73,
   "id": "7fdc866f",
   "metadata": {},
   "outputs": [],
   "source": [
    "y_pred = DecisionTreeModel.predict(X_test) "
   ]
  },
  {
   "cell_type": "code",
   "execution_count": 74,
   "id": "377d4ae3",
   "metadata": {},
   "outputs": [
    {
     "data": {
      "text/plain": [
       "0.9382957884427032"
      ]
     },
     "execution_count": 74,
     "metadata": {},
     "output_type": "execute_result"
    }
   ],
   "source": [
    "dt1= accuracy_score(y_test,y_pred)\n",
    "dt1"
   ]
  },
  {
   "cell_type": "code",
   "execution_count": 75,
   "id": "5b94eb8a",
   "metadata": {},
   "outputs": [
    {
     "data": {
      "text/plain": [
       "DecisionTreeClassifier(max_depth=5)"
      ]
     },
     "execution_count": 75,
     "metadata": {},
     "output_type": "execute_result"
    }
   ],
   "source": [
    "DecisionTreeModel2 = DecisionTreeClassifier(max_depth=5)\n",
    "DecisionTreeModel2.fit(X_train, y_train)"
   ]
  },
  {
   "cell_type": "code",
   "execution_count": 76,
   "id": "71cb4d60",
   "metadata": {},
   "outputs": [],
   "source": [
    "y_pred2 = DecisionTreeModel2.predict(X_test) "
   ]
  },
  {
   "cell_type": "code",
   "execution_count": 77,
   "id": "b0ba5bac",
   "metadata": {},
   "outputs": [
    {
     "name": "stdout",
     "output_type": "stream",
     "text": [
      "0.9373163565132223\n"
     ]
    }
   ],
   "source": [
    "dt12= accuracy_score(y_test,y_pred2)\n",
    "print(dt12)"
   ]
  },
  {
   "cell_type": "code",
   "execution_count": 78,
   "id": "a7d1a35c",
   "metadata": {},
   "outputs": [
    {
     "data": {
      "image/png": "[encoded data removed]",
      "text/plain": [
       "<Figure size 432x288 with 2 Axes>"
      ]
     },
     "metadata": {
      "needs_background": "light"
     },
     "output_type": "display_data"
    }
   ],
   "source": [
    "plot_confusion_matrix(DecisionTreeModel, X_test, y_test)  \n",
    "plt.show()"
   ]
  },
  {
   "cell_type": "code",
   "execution_count": 79,
   "id": "5f083b64",
   "metadata": {},
   "outputs": [],
   "source": [
    "from sklearn.tree import export_graphviz\n",
    "#export_graphviz(DecisionTreeModel, out_file= \"simple_tree2.dot\", feature_names=features.columns)\n",
    "#from subprocess import call\n",
    "#call('dot','-T','png', 'simple_tree.dot', \"-o\",'simple_tree.png')"
   ]
  },
  {
   "cell_type": "markdown",
   "id": "0820c702",
   "metadata": {},
   "source": [
    "#### 2. Random Tree Forest"
   ]
  },
  {
   "cell_type": "code",
   "execution_count": 80,
   "id": "32a344b5",
   "metadata": {},
   "outputs": [
    {
     "data": {
      "text/plain": [
       "RandomForestClassifier(max_depth=2, min_samples_leaf=3, min_samples_split=20,\n",
       "                       random_state=9)"
      ]
     },
     "execution_count": 80,
     "metadata": {},
     "output_type": "execute_result"
    }
   ],
   "source": [
    "RandomForest = RandomForestClassifier(max_depth=2, random_state=9, min_samples_leaf=3, min_samples_split=20, n_estimators=100)\n",
    "RandomForest.fit(X_train, y_train)"
   ]
  },
  {
   "cell_type": "code",
   "execution_count": 81,
   "id": "3a6d4966",
   "metadata": {},
   "outputs": [
    {
     "data": {
      "text/plain": [
       "0.9392752203721841"
      ]
     },
     "execution_count": 81,
     "metadata": {},
     "output_type": "execute_result"
    }
   ],
   "source": [
    "y_pred2 = RandomForest.predict(X_test) \n",
    "dt2= accuracy_score(y_test,y_pred2)\n",
    "dt2"
   ]
  },
  {
   "cell_type": "markdown",
   "id": "05aa48ea",
   "metadata": {},
   "source": [
    "Descubramos cuales son las variables mas importantes para el modelo:"
   ]
  },
  {
   "cell_type": "code",
   "execution_count": 82,
   "id": "e2907128",
   "metadata": {},
   "outputs": [
    {
     "data": {
      "text/html": [
       "<div>\n",
       "<style scoped>\n",
       "    .dataframe tbody tr th:only-of-type {\n",
       "        vertical-align: middle;\n",
       "    }\n",
       "\n",
       "    .dataframe tbody tr th {\n",
       "        vertical-align: top;\n",
       "    }\n",
       "\n",
       "    .dataframe thead th {\n",
       "        text-align: right;\n",
       "    }\n",
       "</style>\n",
       "<table border=\"1\" class=\"dataframe\">\n",
       "  <thead>\n",
       "    <tr style=\"text-align: right;\">\n",
       "      <th></th>\n",
       "      <th>importance</th>\n",
       "    </tr>\n",
       "    <tr>\n",
       "      <th>feature</th>\n",
       "      <th></th>\n",
       "    </tr>\n",
       "  </thead>\n",
       "  <tbody>\n",
       "    <tr>\n",
       "      <th>age</th>\n",
       "      <td>0.471961</td>\n",
       "    </tr>\n",
       "    <tr>\n",
       "      <th>avg_glucose_level</th>\n",
       "      <td>0.194350</td>\n",
       "    </tr>\n",
       "    <tr>\n",
       "      <th>heart_disease</th>\n",
       "      <td>0.122979</td>\n",
       "    </tr>\n",
       "    <tr>\n",
       "      <th>hypertension</th>\n",
       "      <td>0.073716</td>\n",
       "    </tr>\n",
       "    <tr>\n",
       "      <th>ever_married</th>\n",
       "      <td>0.053892</td>\n",
       "    </tr>\n",
       "    <tr>\n",
       "      <th>bmi</th>\n",
       "      <td>0.052977</td>\n",
       "    </tr>\n",
       "    <tr>\n",
       "      <th>work_type</th>\n",
       "      <td>0.018012</td>\n",
       "    </tr>\n",
       "    <tr>\n",
       "      <th>smoking_status</th>\n",
       "      <td>0.009238</td>\n",
       "    </tr>\n",
       "    <tr>\n",
       "      <th>Residence_type</th>\n",
       "      <td>0.001741</td>\n",
       "    </tr>\n",
       "    <tr>\n",
       "      <th>gender</th>\n",
       "      <td>0.001133</td>\n",
       "    </tr>\n",
       "  </tbody>\n",
       "</table>\n",
       "</div>"
      ],
      "text/plain": [
       "                   importance\n",
       "feature                      \n",
       "age                  0.471961\n",
       "avg_glucose_level    0.194350\n",
       "heart_disease        0.122979\n",
       "hypertension         0.073716\n",
       "ever_married         0.053892\n",
       "bmi                  0.052977\n",
       "work_type            0.018012\n",
       "smoking_status       0.009238\n",
       "Residence_type       0.001741\n",
       "gender               0.001133"
      ]
     },
     "execution_count": 82,
     "metadata": {},
     "output_type": "execute_result"
    }
   ],
   "source": [
    "importances=pd.DataFrame({\"feature\": X_train.columns, \"importance\": RandomForest.feature_importances_})\n",
    "importances= importances.sort_values(\"importance\", ascending=False).set_index(\"feature\")\n",
    "importances.head(10)"
   ]
  },
  {
   "cell_type": "code",
   "execution_count": 83,
   "id": "ddfc1775",
   "metadata": {},
   "outputs": [
    {
     "data": {
      "text/plain": [
       "<AxesSubplot:xlabel='feature'>"
      ]
     },
     "execution_count": 83,
     "metadata": {},
     "output_type": "execute_result"
    },
    {
     "data": {
      "image/png": "[encoded data removed]",
      "text/plain": [
       "<Figure size 432x288 with 1 Axes>"
      ]
     },
     "metadata": {},
     "output_type": "display_data"
    }
   ],
   "source": [
    "plt.style.use(\"ggplot\")\n",
    "importances.plot.bar()"
   ]
  },
  {
   "cell_type": "markdown",
   "id": "be461fc3",
   "metadata": {},
   "source": [
    "Como se destaca en el cuadro y el grafico las variables mas relevantes son age, avg_glucose_level , heart disease, hypertension, ever_married y bmi. Por ello, generaremos un nuevo modelo con las variables mas importantes."
   ]
  },
  {
   "cell_type": "markdown",
   "id": "aebeb5f7",
   "metadata": {},
   "source": [
    "+ **Modelo Random Forest 2**"
   ]
  },
  {
   "cell_type": "code",
   "execution_count": 84,
   "id": "761b118b",
   "metadata": {},
   "outputs": [],
   "source": [
    "features2=[\"age\",\"hypertension\",\"heart_disease\",\"ever_married\",\"avg_glucose_level\",\n",
    "          \"bmi\"]"
   ]
  },
  {
   "cell_type": "code",
   "execution_count": 85,
   "id": "f8cb51fa",
   "metadata": {},
   "outputs": [
    {
     "data": {
      "text/html": [
       "<div>\n",
       "<style scoped>\n",
       "    .dataframe tbody tr th:only-of-type {\n",
       "        vertical-align: middle;\n",
       "    }\n",
       "\n",
       "    .dataframe tbody tr th {\n",
       "        vertical-align: top;\n",
       "    }\n",
       "\n",
       "    .dataframe thead th {\n",
       "        text-align: right;\n",
       "    }\n",
       "</style>\n",
       "<table border=\"1\" class=\"dataframe\">\n",
       "  <thead>\n",
       "    <tr style=\"text-align: right;\">\n",
       "      <th></th>\n",
       "      <th>age</th>\n",
       "      <th>hypertension</th>\n",
       "      <th>heart_disease</th>\n",
       "      <th>ever_married</th>\n",
       "      <th>avg_glucose_level</th>\n",
       "      <th>bmi</th>\n",
       "    </tr>\n",
       "  </thead>\n",
       "  <tbody>\n",
       "    <tr>\n",
       "      <th>4164</th>\n",
       "      <td>82.0</td>\n",
       "      <td>1</td>\n",
       "      <td>0</td>\n",
       "      <td>1</td>\n",
       "      <td>222.52</td>\n",
       "      <td>28.89456</td>\n",
       "    </tr>\n",
       "    <tr>\n",
       "      <th>4090</th>\n",
       "      <td>42.0</td>\n",
       "      <td>0</td>\n",
       "      <td>0</td>\n",
       "      <td>1</td>\n",
       "      <td>59.43</td>\n",
       "      <td>25.40000</td>\n",
       "    </tr>\n",
       "    <tr>\n",
       "      <th>946</th>\n",
       "      <td>47.0</td>\n",
       "      <td>0</td>\n",
       "      <td>0</td>\n",
       "      <td>1</td>\n",
       "      <td>204.63</td>\n",
       "      <td>43.40000</td>\n",
       "    </tr>\n",
       "    <tr>\n",
       "      <th>2354</th>\n",
       "      <td>20.0</td>\n",
       "      <td>0</td>\n",
       "      <td>0</td>\n",
       "      <td>0</td>\n",
       "      <td>87.08</td>\n",
       "      <td>27.10000</td>\n",
       "    </tr>\n",
       "    <tr>\n",
       "      <th>3429</th>\n",
       "      <td>62.0</td>\n",
       "      <td>0</td>\n",
       "      <td>0</td>\n",
       "      <td>1</td>\n",
       "      <td>98.05</td>\n",
       "      <td>27.90000</td>\n",
       "    </tr>\n",
       "    <tr>\n",
       "      <th>...</th>\n",
       "      <td>...</td>\n",
       "      <td>...</td>\n",
       "      <td>...</td>\n",
       "      <td>...</td>\n",
       "      <td>...</td>\n",
       "      <td>...</td>\n",
       "    </tr>\n",
       "    <tr>\n",
       "      <th>4431</th>\n",
       "      <td>57.0</td>\n",
       "      <td>0</td>\n",
       "      <td>0</td>\n",
       "      <td>1</td>\n",
       "      <td>64.37</td>\n",
       "      <td>32.80000</td>\n",
       "    </tr>\n",
       "    <tr>\n",
       "      <th>466</th>\n",
       "      <td>61.0</td>\n",
       "      <td>1</td>\n",
       "      <td>0</td>\n",
       "      <td>1</td>\n",
       "      <td>170.05</td>\n",
       "      <td>60.20000</td>\n",
       "    </tr>\n",
       "    <tr>\n",
       "      <th>3095</th>\n",
       "      <td>32.0</td>\n",
       "      <td>0</td>\n",
       "      <td>0</td>\n",
       "      <td>0</td>\n",
       "      <td>79.54</td>\n",
       "      <td>28.10000</td>\n",
       "    </tr>\n",
       "    <tr>\n",
       "      <th>3776</th>\n",
       "      <td>19.0</td>\n",
       "      <td>0</td>\n",
       "      <td>0</td>\n",
       "      <td>0</td>\n",
       "      <td>119.58</td>\n",
       "      <td>24.80000</td>\n",
       "    </tr>\n",
       "    <tr>\n",
       "      <th>861</th>\n",
       "      <td>71.0</td>\n",
       "      <td>0</td>\n",
       "      <td>0</td>\n",
       "      <td>0</td>\n",
       "      <td>95.08</td>\n",
       "      <td>31.50000</td>\n",
       "    </tr>\n",
       "  </tbody>\n",
       "</table>\n",
       "<p>4084 rows × 6 columns</p>\n",
       "</div>"
      ],
      "text/plain": [
       "       age  hypertension  heart_disease  ever_married  avg_glucose_level  \\\n",
       "4164  82.0             1              0             1             222.52   \n",
       "4090  42.0             0              0             1              59.43   \n",
       "946   47.0             0              0             1             204.63   \n",
       "2354  20.0             0              0             0              87.08   \n",
       "3429  62.0             0              0             1              98.05   \n",
       "...    ...           ...            ...           ...                ...   \n",
       "4431  57.0             0              0             1              64.37   \n",
       "466   61.0             1              0             1             170.05   \n",
       "3095  32.0             0              0             0              79.54   \n",
       "3776  19.0             0              0             0             119.58   \n",
       "861   71.0             0              0             0              95.08   \n",
       "\n",
       "           bmi  \n",
       "4164  28.89456  \n",
       "4090  25.40000  \n",
       "946   43.40000  \n",
       "2354  27.10000  \n",
       "3429  27.90000  \n",
       "...        ...  \n",
       "4431  32.80000  \n",
       "466   60.20000  \n",
       "3095  28.10000  \n",
       "3776  24.80000  \n",
       "861   31.50000  \n",
       "\n",
       "[4084 rows x 6 columns]"
      ]
     },
     "execution_count": 85,
     "metadata": {},
     "output_type": "execute_result"
    }
   ],
   "source": [
    "X_train2=X_train[features2]\n",
    "X_train2"
   ]
  },
  {
   "cell_type": "code",
   "execution_count": 86,
   "id": "6ba205c3",
   "metadata": {},
   "outputs": [],
   "source": [
    "X_test2=X_test[features2]"
   ]
  },
  {
   "cell_type": "code",
   "execution_count": 87,
   "id": "29d095b7",
   "metadata": {},
   "outputs": [
    {
     "data": {
      "text/plain": [
       "RandomForestClassifier(max_depth=2, min_samples_leaf=3, min_samples_split=20,\n",
       "                       random_state=9)"
      ]
     },
     "execution_count": 87,
     "metadata": {},
     "output_type": "execute_result"
    }
   ],
   "source": [
    "RandomForest2 = RandomForestClassifier(max_depth=2, random_state=9, min_samples_leaf=3, min_samples_split=20, n_estimators=100)\n",
    "RandomForest2.fit(X_train2, y_train)"
   ]
  },
  {
   "cell_type": "code",
   "execution_count": 88,
   "id": "084c25a8",
   "metadata": {},
   "outputs": [
    {
     "data": {
      "text/plain": [
       "0.9392752203721841"
      ]
     },
     "execution_count": 88,
     "metadata": {},
     "output_type": "execute_result"
    }
   ],
   "source": [
    "y_pred2_2 = RandomForest2.predict(X_test2) \n",
    "dt2_2= accuracy_score(y_test,y_pred2_2)\n",
    "dt2_2"
   ]
  },
  {
   "cell_type": "code",
   "execution_count": 89,
   "id": "a7fc334c",
   "metadata": {},
   "outputs": [
    {
     "data": {
      "image/png": "[encoded data removed]",
      "text/plain": [
       "<Figure size 432x288 with 2 Axes>"
      ]
     },
     "metadata": {},
     "output_type": "display_data"
    }
   ],
   "source": [
    "plot_confusion_matrix(RandomForest2, X_test2, y_test)  \n",
    "plt.show()"
   ]
  },
  {
   "cell_type": "markdown",
   "id": "35094d73",
   "metadata": {},
   "source": [
    "Nos quedamos con el modelo mas simple para este caso, pues el puntaje de precision es casi identico al que tiene todos los features."
   ]
  },
  {
   "cell_type": "markdown",
   "id": "04259bdf",
   "metadata": {},
   "source": [
    "#### 3. KNeighbors"
   ]
  },
  {
   "cell_type": "markdown",
   "id": "81c1a5cd",
   "metadata": {},
   "source": [
    "En primer lugar se crearan varios modelos cambiando la cantidad de vecinos de los K-Neighbors y se elige el que tiene una 12. "
   ]
  },
  {
   "cell_type": "code",
   "execution_count": 90,
   "id": "91b78813",
   "metadata": {},
   "outputs": [
    {
     "data": {
      "text/plain": [
       "KNeighborsClassifier(n_neighbors=12)"
      ]
     },
     "execution_count": 90,
     "metadata": {},
     "output_type": "execute_result"
    }
   ],
   "source": [
    "KNeighborsModel=KNeighborsClassifier(n_neighbors = 12)\n",
    "KNeighborsModel.fit(X_train, y_train)"
   ]
  },
  {
   "cell_type": "code",
   "execution_count": 91,
   "id": "242a8e60",
   "metadata": {},
   "outputs": [
    {
     "data": {
      "text/plain": [
       "0.9392752203721841"
      ]
     },
     "execution_count": 91,
     "metadata": {},
     "output_type": "execute_result"
    }
   ],
   "source": [
    "y_pred3 = KNeighborsModel.predict(X_test) \n",
    "dt3= accuracy_score(y_test,y_pred3)\n",
    "dt3"
   ]
  },
  {
   "cell_type": "code",
   "execution_count": 92,
   "id": "79746200",
   "metadata": {},
   "outputs": [
    {
     "data": {
      "image/png": "[encoded data removed]",
      "text/plain": [
       "<Figure size 432x288 with 2 Axes>"
      ]
     },
     "metadata": {},
     "output_type": "display_data"
    }
   ],
   "source": [
    "plot_confusion_matrix(KNeighborsModel, X_test, y_test)  \n",
    "plt.show()"
   ]
  },
  {
   "cell_type": "markdown",
   "id": "7e1762a5",
   "metadata": {},
   "source": [
    "**Método de ensamble no visto en clase**\n",
    "\n",
    "Los métodos de ensamblaje son métodos combinados de distintos algoritmos de aprendizaje para obtener una mejor precisión.\n",
    "\n",
    "Los resultados de los modelos ensamblados son mejores principalmente por:\n",
    "\n",
    "- Reducción de sesgo: al combinar varios modelos se promedian los sesgos y se reduce el error.\n",
    "\n",
    "- Disminución de la varianza: los resultados de varios modelos son menos ruidosos que la de un solo modelo, por esto se reduce la varianza.\n",
    "\n",
    "- Probabilidad baja de sobreajuste: se tienen varios modelos ajustados sin sobreajuste y al combinar las predicciones, no hay lugar al sobreajuste.\n",
    "\n",
    "**4. Agregación de bootstrap (bagging)**\n",
    "\n",
    "Ajusta los clasificadores en *m* subconjuntos aleatorios de los datos originales, que son *m* muestras bootstrap. Se ajustan modelos con las *m* muestras y luego por votación se obtiene una predicción final, es decir se construyen diferentes modelos y apartir de estos se obtiene la predicción."
   ]
  },
  {
   "cell_type": "code",
   "execution_count": 93,
   "id": "0fa3ab6c",
   "metadata": {},
   "outputs": [
    {
     "data": {
      "text/plain": [
       "BaggingClassifier(base_estimator=SVC(), random_state=0)"
      ]
     },
     "execution_count": 93,
     "metadata": {},
     "output_type": "execute_result"
    }
   ],
   "source": [
    "Bagging = BaggingClassifier(base_estimator=SVC(), random_state=0)\n",
    "Bagging.fit(X_train, y_train)"
   ]
  },
  {
   "cell_type": "code",
   "execution_count": 94,
   "id": "8b26112f",
   "metadata": {},
   "outputs": [
    {
     "data": {
      "text/plain": [
       "0.9392752203721841"
      ]
     },
     "execution_count": 94,
     "metadata": {},
     "output_type": "execute_result"
    }
   ],
   "source": [
    "y_pred4 = Bagging.predict(X_test) \n",
    "dt4= accuracy_score(y_test,y_pred4)\n",
    "dt4"
   ]
  },
  {
   "cell_type": "code",
   "execution_count": 95,
   "id": "64f0089f",
   "metadata": {},
   "outputs": [
    {
     "data": {
      "image/png": "[encoded data removed]",
      "text/plain": [
       "<Figure size 432x288 with 2 Axes>"
      ]
     },
     "metadata": {},
     "output_type": "display_data"
    }
   ],
   "source": [
    "plot_confusion_matrix(Bagging, X_test, y_test)  \n",
    "plt.show()"
   ]
  },
  {
   "cell_type": "markdown",
   "id": "bb35422f",
   "metadata": {},
   "source": [
    "#### Probabilidades de Predicción"
   ]
  },
  {
   "cell_type": "code",
   "execution_count": 96,
   "id": "d21c7f79",
   "metadata": {},
   "outputs": [],
   "source": [
    "r_prob= [0 for _ in range(len(y_test))]\n",
    "tree_prob= DecisionTreeModel.predict_proba(X_test)\n",
    "#RF_prob=RandomForest.predict_proba(X_test)\n",
    "RF2_prob=RandomForest2.predict_proba(X_test2)\n",
    "KNeighbors_prob= KNeighborsModel.predict_proba(X_test)\n",
    "Bagging_prob=Bagging.predict_proba(X_test)"
   ]
  },
  {
   "cell_type": "code",
   "execution_count": 97,
   "id": "6a19ee38",
   "metadata": {},
   "outputs": [],
   "source": [
    "tree_prob= tree_prob[:, 1]\n",
    "#RF_prob= RF_prob[:, 1]\n",
    "RF2_prob= RF2_prob[:, 1]\n",
    "KNeighbors_prob= KNeighbors_prob[:, 1]\n",
    "Bagging_prob= Bagging_prob[:, 1]"
   ]
  },
  {
   "cell_type": "markdown",
   "id": "749bbc8d",
   "metadata": {},
   "source": [
    "#### Calcular AUC"
   ]
  },
  {
   "cell_type": "code",
   "execution_count": 98,
   "id": "2ae01038",
   "metadata": {},
   "outputs": [],
   "source": [
    "r_auc=roc_auc_score(y_test,r_prob)\n",
    "tree_auc= roc_auc_score(y_test,tree_prob)\n",
    "#RF_auc= roc_auc_score(y_test,RF_prob)\n",
    "RF2_auc= roc_auc_score(y_test,RF2_prob)\n",
    "KNeighbors_auc= roc_auc_score(y_test,KNeighbors_prob)\n",
    "Bagging_auc=roc_auc_score(y_test,Bagging_prob)"
   ]
  },
  {
   "cell_type": "code",
   "execution_count": 99,
   "id": "b8b0617d",
   "metadata": {},
   "outputs": [
    {
     "name": "stdout",
     "output_type": "stream",
     "text": [
      "Random(Chance) : AUROC = 0.500\n",
      "Decision Tree : AUROC = 0.798\n",
      "Random Forest2 : AUROC = 0.832\n",
      "KNeighbors : AUROC = 0.765\n",
      "Baging : AUROC = 0.500\n"
     ]
    }
   ],
   "source": [
    "print(\"Random(Chance) : AUROC = %.3f\" % (r_auc))\n",
    "print(\"Decision Tree : AUROC = %.3f\" % (tree_auc))\n",
    "#print(\"Random Forest : AUROC = %.3f\" % (RF_auc))\n",
    "print(\"Random Forest2 : AUROC = %.3f\" % (RF2_auc))\n",
    "print(\"KNeighbors : AUROC = %.3f\" % (KNeighbors_auc))\n",
    "print(\"Baging : AUROC = %.3f\" % (Bagging_auc))"
   ]
  },
  {
   "cell_type": "markdown",
   "id": "f147cd65",
   "metadata": {},
   "source": [
    "#### Calcular ROC"
   ]
  },
  {
   "cell_type": "code",
   "execution_count": 100,
   "id": "a8f8738c",
   "metadata": {},
   "outputs": [],
   "source": [
    "r_fpr, r_tpr, _=roc_curve(y_test,r_prob)\n",
    "tree_fpr, tree_tpr, _=roc_curve(y_test,tree_prob)\n",
    "#rf_fpr, rf_tpr, _=roc_curve(y_test,RF_prob)\n",
    "rf2_fpr, rf2_tpr, _=roc_curve(y_test,RF2_prob)\n",
    "kn_fpr, kn_tpr, _=roc_curve(y_test,KNeighbors_prob)\n",
    "bg_fpr, bg_tpr, _=roc_curve(y_test,Bagging_prob)"
   ]
  },
  {
   "cell_type": "code",
   "execution_count": 101,
   "id": "06356e51",
   "metadata": {},
   "outputs": [
    {
     "data": {
      "image/png": "[encoded data removed]",
      "text/plain": [
       "<Figure size 432x288 with 1 Axes>"
      ]
     },
     "metadata": {},
     "output_type": "display_data"
    }
   ],
   "source": [
    "plt.plot(r_fpr, r_tpr, linestyle=\"--\", label= \"Random(Chance) : AUROC = %.3f\" % (r_auc))\n",
    "plt.plot(tree_fpr, tree_tpr, marker=\"*\", label= \"Decision Tree : AUROC = %.3f\" % (tree_auc))\n",
    "#plt.plot(rf_fpr, rf_tpr, marker=\"+\", label= \"Random Forest : AUROC = %.3f\" % (RF_auc))\n",
    "plt.plot(rf2_fpr, rf2_tpr, marker=\"+\", label= \"Random Forest 2: AUROC = %.3f\" % (RF2_auc))\n",
    "plt.plot(kn_fpr, kn_tpr, marker=\",\", label= \"KNeighbors : AUROC = %.3f\" % (KNeighbors_auc))\n",
    "plt.plot(bg_fpr, bg_tpr, marker=\",\", label= \"Bagging : AUROC = %.3f\" % (Bagging_auc))\n",
    "plt.title(\"ROC\")\n",
    "plt.xlabel(\"False Positive Rate\")\n",
    "plt.ylabel(\"True Positive Rate\")\n",
    "plt.legend()\n",
    "plt.show()"
   ]
  },
  {
   "cell_type": "markdown",
   "id": "6f5266b7",
   "metadata": {},
   "source": [
    "**Comparación de modelos:**\n",
    "\n",
    "Podemos observar que los resultados del accuracy_score los modelos no varían mucho, todos indican que los modelos tienen buena precisión, por lo que se toma la curva de ROC, su AUC, PP y FP como métrica para tomar la decisión. \n",
    "\n",
    "Con estos resultados se puede concluir que el mejor modelo es Random Forest, ya que tiene la mayoría de puntajes más altos y no cae en sobre-ajuste.\n",
    "\n",
    "Sin embargo, con varios modelos se obtienen resultados aceptables, esto se puede dar debido a la **importancia** de algunas variables, por ejemplo: los **Niveles de Glucosa** y las **Enfermedades Cardíacas** son factores de riesgo importantes en los Accidentes Cerebrovasculares, además estas variables aumentan con la **Edad**, otra variable de gran importancia en los datos. \n",
    "\n",
    "Con esto podemos concluir que las variables incluidas en este modelo ayudan a predecir la presencia de Accidentes Cardiovasculares con una buena precisión. "
   ]
  },
  {
   "cell_type": "code",
   "execution_count": null,
   "id": "0b10efe9",
   "metadata": {},
   "outputs": [],
   "source": []
  }
 ],
 "metadata": {
  "kernelspec": {
   "display_name": "Python 3",
   "language": "python",
   "name": "python3"
  },
  "language_info": {
   "codemirror_mode": {
    "name": "ipython",
    "version": 3
   },
   "file_extension": ".py",
   "mimetype": "text/x-python",
   "name": "python",
   "nbconvert_exporter": "python",
   "pygments_lexer": "ipython3",
   "version": "3.8.8"
  }
 },
 "nbformat": 4,
 "nbformat_minor": 5
}
