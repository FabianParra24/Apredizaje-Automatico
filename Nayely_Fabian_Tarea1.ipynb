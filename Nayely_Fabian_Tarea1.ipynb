{
 "cells": [
  {
   "cell_type": "markdown",
   "id": "8a4cad33",
   "metadata": {},
   "source": [
    "## Tarea #1 (Grupos de dos integrantes)\n",
    "\n",
    "## Estudiantes: Nayely Márquez y Fabián Parra\n",
    "\n",
    "Crear un ambiente de trabajo (.ipynb) basado en PYTHON3 y llamarle Tarea-1.ipynb, además debe contener\n",
    "las librerías: numpy, matplotlib, scikit-learn, pandas, jupyter notebook como mínimo, puede agregar las que considere necesario. El objetivo de esta Tarea 1 consiste en normalizar y estandarizar el set\n",
    "de datos de daily-min-temperatures.csv de forma manual y automática a partir de scikit-learn\n",
    "o la librería que considere apropiada. El entregable consiste en el url de la notebook Tarea-1.ipynb en\n",
    "GITHUB. Subir al TEC Digital un archivo .txt simple con el url a más tardar el dia acordado en clase e\n",
    "indicado en el TEC Digital, envíos pasado el limite de entrega se aplicaría la penalización discutida en clase."
   ]
  },
  {
   "cell_type": "code",
   "execution_count": 1,
   "id": "23b574aa",
   "metadata": {},
   "outputs": [],
   "source": [
    "#!pip install sklearn \n",
    "import torch as torch\n",
    "import numpy as np\n",
    "import matplotlib as plt\n",
    "import sklearn  \n",
    "import pandas as pd\n",
    "from sklearn.preprocessing import MinMaxScaler\n",
    "from sklearn import preprocessing"
   ]
  },
  {
   "cell_type": "markdown",
   "id": "37e92f7c",
   "metadata": {},
   "source": [
    "Primero se cargan los datos, luego se elige la columna de temperatura, ya que el año no nos intereza para la normalización y estandarización. "
   ]
  },
  {
   "cell_type": "code",
   "execution_count": 2,
   "id": "f4714616",
   "metadata": {},
   "outputs": [
    {
     "name": "stdout",
     "output_type": "stream",
     "text": [
      "0       20.7\n",
      "1       17.9\n",
      "2       18.8\n",
      "3       14.6\n",
      "4       15.8\n",
      "        ... \n",
      "3645    14.0\n",
      "3646    13.6\n",
      "3647    13.5\n",
      "3648    15.7\n",
      "3649    13.0\n",
      "Name: Temp, Length: 3650, dtype: float64\n"
     ]
    }
   ],
   "source": [
    "df = pd.read_csv(\n",
    "    'D:/50688/Fabian/TEC/Aprendizaje Automatico/Tarea 1/daily-min-temperatures.txt', sep=\",\",header=0)\n",
    "\n",
    "\n",
    "d=df.iloc[:,1]\n",
    "print(d)\n",
    "d=np.array(d)"
   ]
  },
  {
   "cell_type": "markdown",
   "id": "c28fe6b7",
   "metadata": {},
   "source": [
    "Primero se va a realizar la **estandarización** calculando:\n",
    "\n",
    "$$y = (x - mean) / StandardDeviation$$\n",
    "\n",
    "Se hace un reshape para poder utilizar la función sin problemas."
   ]
  },
  {
   "cell_type": "code",
   "execution_count": 3,
   "id": "628569fa",
   "metadata": {},
   "outputs": [
    {
     "data": {
      "text/plain": [
       "array([[2.33888328],\n",
       "       [1.65113873],\n",
       "       [1.87219948],\n",
       "       ...,\n",
       "       [0.5703973 ],\n",
       "       [1.11076801],\n",
       "       [0.44758577]])"
      ]
     },
     "execution_count": 3,
     "metadata": {},
     "output_type": "execute_result"
    }
   ],
   "source": [
    "X_train= np.reshape(d, (-1, 1))\n",
    "\n",
    "scaler = preprocessing.StandardScaler().fit(X_train)\n",
    "scaler\n",
    "\n",
    "\n",
    "scaler.mean_\n",
    "\n",
    "\n",
    "scaler.scale_\n",
    "\n",
    "\n",
    "X_scaled = scaler.transform(X_train)\n",
    "X_scaled"
   ]
  },
  {
   "cell_type": "markdown",
   "id": "4f577ffd",
   "metadata": {},
   "source": [
    "Se realiza el calculo manual, restandole la media a los datos y dividiendo entre la desviación estándar."
   ]
  },
  {
   "cell_type": "code",
   "execution_count": 4,
   "id": "04801811",
   "metadata": {},
   "outputs": [
    {
     "name": "stdout",
     "output_type": "stream",
     "text": [
      "[[2.33888328]\n",
      " [1.65113873]\n",
      " [1.87219948]\n",
      " ...\n",
      " [0.5703973 ]\n",
      " [1.11076801]\n",
      " [0.44758577]]\n"
     ]
    }
   ],
   "source": [
    "d_estand_m = (X_train - X_train.mean()) / X_train.std()\n",
    "print(d_estand_m)"
   ]
  },
  {
   "cell_type": "markdown",
   "id": "bb694938",
   "metadata": {},
   "source": [
    "Para la **normalización** se realiza el calculo:\n",
    "    \n",
    "$$y = (x - min) / (max - min)$$\n",
    "\n",
    "Primero se utiliza la función:"
   ]
  },
  {
   "cell_type": "code",
   "execution_count": 5,
   "id": "73fb9795",
   "metadata": {},
   "outputs": [
    {
     "name": "stdout",
     "output_type": "stream",
     "text": [
      "[[0.78707224]\n",
      " [0.68060837]\n",
      " [0.7148289 ]\n",
      " ...\n",
      " [0.51330798]\n",
      " [0.59695817]\n",
      " [0.49429658]]\n"
     ]
    }
   ],
   "source": [
    "A = X_train\n",
    "\n",
    "min_max_scaler = preprocessing.MinMaxScaler()   \n",
    "\n",
    "A = min_max_scaler.fit_transform(A)\n",
    "print(A)"
   ]
  },
  {
   "cell_type": "markdown",
   "id": "23a1639c",
   "metadata": {},
   "source": [
    "Manualmente se resta el mínimo y se divide entre la resta del valor máximo y mínimo."
   ]
  },
  {
   "cell_type": "code",
   "execution_count": 6,
   "id": "1aa90732",
   "metadata": {},
   "outputs": [
    {
     "data": {
      "text/plain": [
       "array([[0.78707224],\n",
       "       [0.68060837],\n",
       "       [0.7148289 ],\n",
       "       ...,\n",
       "       [0.51330798],\n",
       "       [0.59695817],\n",
       "       [0.49429658]])"
      ]
     },
     "execution_count": 6,
     "metadata": {},
     "output_type": "execute_result"
    }
   ],
   "source": [
    "A = X_train\n",
    "\n",
    "d_norm_m=(A-A.min(axis=0))/(A.max(axis=0) - A.min(axis=0))\n",
    "\n",
    "d_norm_m"
   ]
  },
  {
   "cell_type": "code",
   "execution_count": null,
   "id": "3b963f39",
   "metadata": {},
   "outputs": [],
   "source": []
  }
 ],
 "metadata": {
  "kernelspec": {
   "display_name": "Python 3",
   "language": "python",
   "name": "python3"
  },
  "language_info": {
   "codemirror_mode": {
    "name": "ipython",
    "version": 3
   },
   "file_extension": ".py",
   "mimetype": "text/x-python",
   "name": "python",
   "nbconvert_exporter": "python",
   "pygments_lexer": "ipython3",
   "version": "3.8.8"
  }
 },
 "nbformat": 4,
 "nbformat_minor": 5
}
