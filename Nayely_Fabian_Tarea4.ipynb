{
  "nbformat": 4,
  "nbformat_minor": 5,
  "metadata": {
    "kernelspec": {
      "display_name": "Python 3",
      "language": "python",
      "name": "python3"
    },
    "language_info": {
      "codemirror_mode": {
        "name": "ipython",
        "version": 3
      },
      "file_extension": ".py",
      "mimetype": "text/x-python",
      "name": "python",
      "nbconvert_exporter": "python",
      "pygments_lexer": "ipython3",
      "version": "3.8.8"
    },
    "colab": {
      "name": "Nayely_Fabian_Tarea4.ipynb",
      "provenance": [],
      "collapsed_sections": [
        "fea03ec2",
        "181b6d94",
        "0820c702",
        "04259bdf",
        "bb35422f",
        "749bbc8d",
        "4I1dbo-NmMd1"
      ],
      "include_colab_link": true
    }
  },
  "cells": [
    {
      "cell_type": "markdown",
      "metadata": {
        "id": "view-in-github",
        "colab_type": "text"
      },
      "source": [
        "<a href=\"https://colab.research.google.com/github/FabianParra24/Apredizaje-Automatico/blob/main/Nayely_Fabian_Tarea4.ipynb\" target=\"_parent\"><img src=\"https://colab.research.google.com/assets/colab-badge.svg\" alt=\"Open In Colab\"/></a>"
      ]
    },
    {
      "cell_type": "markdown",
      "metadata": {
        "id": "88eee32f"
      },
      "source": [
        "# Redes Neuronales Artificiales (ANN)\n",
        "# Tarea #4 (Grupos de dos integrantes)\n",
        "## Estudiantes: Nayely Márquez y Fabián Parra\n",
        "\n"
      ],
      "id": "88eee32f"
    },
    {
      "cell_type": "markdown",
      "metadata": {
        "id": "30ce09fc"
      },
      "source": [
        "**Datos**\n",
        "\n",
        "Este dataset se utiliza para predecir si un paciente puede sufrir un accidente cerebrovascular en función de variables como el sexo, la edad, diversas enfermedades y el tabaquismo.\n"
      ],
      "id": "30ce09fc"
    },
    {
      "cell_type": "code",
      "metadata": {
        "colab": {
          "base_uri": "https://localhost:8080/",
          "height": 204
        },
        "id": "8eef2706",
        "outputId": "026589c1-086a-441e-f87d-020cc527490a"
      },
      "source": [
        "import pandas as pd\n",
        "\n",
        "data=pd.read_csv('https://raw.githubusercontent.com/FabianParra24/Apredizaje-Automatico/master/healthcare-dataset-stroke-data.csv')\n",
        "data.head()"
      ],
      "id": "8eef2706",
      "execution_count": 3,
      "outputs": [
        {
          "output_type": "execute_result",
          "data": {
            "text/html": [
              "<div>\n",
              "<style scoped>\n",
              "    .dataframe tbody tr th:only-of-type {\n",
              "        vertical-align: middle;\n",
              "    }\n",
              "\n",
              "    .dataframe tbody tr th {\n",
              "        vertical-align: top;\n",
              "    }\n",
              "\n",
              "    .dataframe thead th {\n",
              "        text-align: right;\n",
              "    }\n",
              "</style>\n",
              "<table border=\"1\" class=\"dataframe\">\n",
              "  <thead>\n",
              "    <tr style=\"text-align: right;\">\n",
              "      <th></th>\n",
              "      <th>id</th>\n",
              "      <th>gender</th>\n",
              "      <th>age</th>\n",
              "      <th>hypertension</th>\n",
              "      <th>heart_disease</th>\n",
              "      <th>ever_married</th>\n",
              "      <th>work_type</th>\n",
              "      <th>Residence_type</th>\n",
              "      <th>avg_glucose_level</th>\n",
              "      <th>bmi</th>\n",
              "      <th>smoking_status</th>\n",
              "      <th>stroke</th>\n",
              "    </tr>\n",
              "  </thead>\n",
              "  <tbody>\n",
              "    <tr>\n",
              "      <th>0</th>\n",
              "      <td>9046</td>\n",
              "      <td>Male</td>\n",
              "      <td>67.0</td>\n",
              "      <td>0</td>\n",
              "      <td>1</td>\n",
              "      <td>Yes</td>\n",
              "      <td>Private</td>\n",
              "      <td>Urban</td>\n",
              "      <td>228.69</td>\n",
              "      <td>36.6</td>\n",
              "      <td>formerly smoked</td>\n",
              "      <td>1</td>\n",
              "    </tr>\n",
              "    <tr>\n",
              "      <th>1</th>\n",
              "      <td>51676</td>\n",
              "      <td>Female</td>\n",
              "      <td>61.0</td>\n",
              "      <td>0</td>\n",
              "      <td>0</td>\n",
              "      <td>Yes</td>\n",
              "      <td>Self-employed</td>\n",
              "      <td>Rural</td>\n",
              "      <td>202.21</td>\n",
              "      <td>NaN</td>\n",
              "      <td>never smoked</td>\n",
              "      <td>1</td>\n",
              "    </tr>\n",
              "    <tr>\n",
              "      <th>2</th>\n",
              "      <td>31112</td>\n",
              "      <td>Male</td>\n",
              "      <td>80.0</td>\n",
              "      <td>0</td>\n",
              "      <td>1</td>\n",
              "      <td>Yes</td>\n",
              "      <td>Private</td>\n",
              "      <td>Rural</td>\n",
              "      <td>105.92</td>\n",
              "      <td>32.5</td>\n",
              "      <td>never smoked</td>\n",
              "      <td>1</td>\n",
              "    </tr>\n",
              "    <tr>\n",
              "      <th>3</th>\n",
              "      <td>60182</td>\n",
              "      <td>Female</td>\n",
              "      <td>49.0</td>\n",
              "      <td>0</td>\n",
              "      <td>0</td>\n",
              "      <td>Yes</td>\n",
              "      <td>Private</td>\n",
              "      <td>Urban</td>\n",
              "      <td>171.23</td>\n",
              "      <td>34.4</td>\n",
              "      <td>smokes</td>\n",
              "      <td>1</td>\n",
              "    </tr>\n",
              "    <tr>\n",
              "      <th>4</th>\n",
              "      <td>1665</td>\n",
              "      <td>Female</td>\n",
              "      <td>79.0</td>\n",
              "      <td>1</td>\n",
              "      <td>0</td>\n",
              "      <td>Yes</td>\n",
              "      <td>Self-employed</td>\n",
              "      <td>Rural</td>\n",
              "      <td>174.12</td>\n",
              "      <td>24.0</td>\n",
              "      <td>never smoked</td>\n",
              "      <td>1</td>\n",
              "    </tr>\n",
              "  </tbody>\n",
              "</table>\n",
              "</div>"
            ],
            "text/plain": [
              "      id  gender   age  ...   bmi   smoking_status stroke\n",
              "0   9046    Male  67.0  ...  36.6  formerly smoked      1\n",
              "1  51676  Female  61.0  ...   NaN     never smoked      1\n",
              "2  31112    Male  80.0  ...  32.5     never smoked      1\n",
              "3  60182  Female  49.0  ...  34.4           smokes      1\n",
              "4   1665  Female  79.0  ...  24.0     never smoked      1\n",
              "\n",
              "[5 rows x 12 columns]"
            ]
          },
          "metadata": {},
          "execution_count": 3
        }
      ]
    },
    {
      "cell_type": "code",
      "metadata": {
        "colab": {
          "base_uri": "https://localhost:8080/"
        },
        "id": "c6a79a31",
        "outputId": "beca9f0a-30fe-476c-c0e0-8a0d167c787a"
      },
      "source": [
        "data.shape"
      ],
      "id": "c6a79a31",
      "execution_count": 4,
      "outputs": [
        {
          "output_type": "execute_result",
          "data": {
            "text/plain": [
              "(5110, 12)"
            ]
          },
          "metadata": {},
          "execution_count": 4
        }
      ]
    },
    {
      "cell_type": "code",
      "metadata": {
        "id": "8498bc1a"
      },
      "source": [
        "features=[\"gender\",\"age\",\"hypertension\",\"heart_disease\",\"ever_married\",\"work_type\",\"Residence_type\",\"avg_glucose_level\",\n",
        "          \"bmi\",\"smoking_status\",\"stroke\"]\n",
        "data=data[features]"
      ],
      "id": "8498bc1a",
      "execution_count": 5,
      "outputs": []
    },
    {
      "cell_type": "markdown",
      "metadata": {
        "id": "d266abff"
      },
      "source": [
        "#### Limpieza de datos"
      ],
      "id": "d266abff"
    },
    {
      "cell_type": "markdown",
      "metadata": {
        "id": "3a708584"
      },
      "source": [
        "Podemos saber si hay otros códigos en gender u otras columnas utilizando:"
      ],
      "id": "3a708584"
    },
    {
      "cell_type": "code",
      "metadata": {
        "colab": {
          "base_uri": "https://localhost:8080/"
        },
        "id": "4851aa53",
        "outputId": "8f292d68-e64a-4312-fbe6-db4aa1c3c981"
      },
      "source": [
        "data['gender'].unique()"
      ],
      "id": "4851aa53",
      "execution_count": 6,
      "outputs": [
        {
          "output_type": "execute_result",
          "data": {
            "text/plain": [
              "array(['Male', 'Female', 'Other'], dtype=object)"
            ]
          },
          "metadata": {},
          "execution_count": 6
        }
      ]
    },
    {
      "cell_type": "code",
      "metadata": {
        "id": "26fe331d"
      },
      "source": [
        "data.drop(data[data['gender'] == 'Other'].index, inplace = True)"
      ],
      "id": "26fe331d",
      "execution_count": 7,
      "outputs": []
    },
    {
      "cell_type": "code",
      "metadata": {
        "colab": {
          "base_uri": "https://localhost:8080/"
        },
        "id": "adda3afc",
        "outputId": "cd9ff55e-d4e7-487f-e23b-b3cff347ab6c"
      },
      "source": [
        "data['ever_married'].unique()"
      ],
      "id": "adda3afc",
      "execution_count": 8,
      "outputs": [
        {
          "output_type": "execute_result",
          "data": {
            "text/plain": [
              "array(['Yes', 'No'], dtype=object)"
            ]
          },
          "metadata": {},
          "execution_count": 8
        }
      ]
    },
    {
      "cell_type": "code",
      "metadata": {
        "colab": {
          "base_uri": "https://localhost:8080/"
        },
        "id": "d6ff4bb4",
        "outputId": "0eded192-1699-4e1c-96fa-f809a751333d"
      },
      "source": [
        "data['work_type'].unique()"
      ],
      "id": "d6ff4bb4",
      "execution_count": 9,
      "outputs": [
        {
          "output_type": "execute_result",
          "data": {
            "text/plain": [
              "array(['Private', 'Self-employed', 'Govt_job', 'children', 'Never_worked'],\n",
              "      dtype=object)"
            ]
          },
          "metadata": {},
          "execution_count": 9
        }
      ]
    },
    {
      "cell_type": "code",
      "metadata": {
        "colab": {
          "base_uri": "https://localhost:8080/"
        },
        "id": "203184af",
        "outputId": "d68ff4f5-cf8c-4918-f91f-2bef8ce72820"
      },
      "source": [
        "data['Residence_type'].unique()"
      ],
      "id": "203184af",
      "execution_count": 10,
      "outputs": [
        {
          "output_type": "execute_result",
          "data": {
            "text/plain": [
              "array(['Urban', 'Rural'], dtype=object)"
            ]
          },
          "metadata": {},
          "execution_count": 10
        }
      ]
    },
    {
      "cell_type": "code",
      "metadata": {
        "colab": {
          "base_uri": "https://localhost:8080/"
        },
        "id": "8556eb5b",
        "outputId": "ea2ae656-e940-4b91-80b4-2c59d7603108"
      },
      "source": [
        "data['hypertension'].unique()"
      ],
      "id": "8556eb5b",
      "execution_count": 11,
      "outputs": [
        {
          "output_type": "execute_result",
          "data": {
            "text/plain": [
              "array([0, 1])"
            ]
          },
          "metadata": {},
          "execution_count": 11
        }
      ]
    },
    {
      "cell_type": "code",
      "metadata": {
        "colab": {
          "base_uri": "https://localhost:8080/"
        },
        "id": "0cff346c",
        "outputId": "a172258c-ba8f-4811-8971-d993047720f1"
      },
      "source": [
        "data['smoking_status'].unique()"
      ],
      "id": "0cff346c",
      "execution_count": 12,
      "outputs": [
        {
          "output_type": "execute_result",
          "data": {
            "text/plain": [
              "array(['formerly smoked', 'never smoked', 'smokes', 'Unknown'],\n",
              "      dtype=object)"
            ]
          },
          "metadata": {},
          "execution_count": 12
        }
      ]
    },
    {
      "cell_type": "code",
      "metadata": {
        "colab": {
          "base_uri": "https://localhost:8080/"
        },
        "id": "04e87ab1",
        "outputId": "95d1ee81-e947-4d3d-fdf5-db1f28f673ee"
      },
      "source": [
        "data.dtypes"
      ],
      "id": "04e87ab1",
      "execution_count": 13,
      "outputs": [
        {
          "output_type": "execute_result",
          "data": {
            "text/plain": [
              "gender                object\n",
              "age                  float64\n",
              "hypertension           int64\n",
              "heart_disease          int64\n",
              "ever_married          object\n",
              "work_type             object\n",
              "Residence_type        object\n",
              "avg_glucose_level    float64\n",
              "bmi                  float64\n",
              "smoking_status        object\n",
              "stroke                 int64\n",
              "dtype: object"
            ]
          },
          "metadata": {},
          "execution_count": 13
        }
      ]
    },
    {
      "cell_type": "code",
      "metadata": {
        "colab": {
          "base_uri": "https://localhost:8080/"
        },
        "id": "4fa93c72",
        "outputId": "d405104c-6c72-4d59-c810-8ae23e3f3b7d"
      },
      "source": [
        "print(data['heart_disease'].isnull().sum())\n",
        "print(data['avg_glucose_level'].isnull().sum())\n",
        "print(data['bmi'].isnull().sum())\n",
        "print(data['stroke'].isnull().sum())"
      ],
      "id": "4fa93c72",
      "execution_count": 14,
      "outputs": [
        {
          "output_type": "stream",
          "name": "stdout",
          "text": [
            "0\n",
            "0\n",
            "201\n",
            "0\n"
          ]
        }
      ]
    },
    {
      "cell_type": "code",
      "metadata": {
        "id": "30b1524f"
      },
      "source": [
        "data.fillna(data.mean(), inplace = True)"
      ],
      "id": "30b1524f",
      "execution_count": 15,
      "outputs": []
    },
    {
      "cell_type": "code",
      "metadata": {
        "colab": {
          "base_uri": "https://localhost:8080/",
          "height": 297
        },
        "id": "d6cf88eb",
        "outputId": "5e3a888d-7dc0-4d10-b5ec-9e8945a7f95c"
      },
      "source": [
        "data.describe()"
      ],
      "id": "d6cf88eb",
      "execution_count": 16,
      "outputs": [
        {
          "output_type": "execute_result",
          "data": {
            "text/html": [
              "<div>\n",
              "<style scoped>\n",
              "    .dataframe tbody tr th:only-of-type {\n",
              "        vertical-align: middle;\n",
              "    }\n",
              "\n",
              "    .dataframe tbody tr th {\n",
              "        vertical-align: top;\n",
              "    }\n",
              "\n",
              "    .dataframe thead th {\n",
              "        text-align: right;\n",
              "    }\n",
              "</style>\n",
              "<table border=\"1\" class=\"dataframe\">\n",
              "  <thead>\n",
              "    <tr style=\"text-align: right;\">\n",
              "      <th></th>\n",
              "      <th>age</th>\n",
              "      <th>hypertension</th>\n",
              "      <th>heart_disease</th>\n",
              "      <th>avg_glucose_level</th>\n",
              "      <th>bmi</th>\n",
              "      <th>stroke</th>\n",
              "    </tr>\n",
              "  </thead>\n",
              "  <tbody>\n",
              "    <tr>\n",
              "      <th>count</th>\n",
              "      <td>5109.000000</td>\n",
              "      <td>5109.000000</td>\n",
              "      <td>5109.000000</td>\n",
              "      <td>5109.000000</td>\n",
              "      <td>5109.000000</td>\n",
              "      <td>5109.000000</td>\n",
              "    </tr>\n",
              "    <tr>\n",
              "      <th>mean</th>\n",
              "      <td>43.229986</td>\n",
              "      <td>0.097475</td>\n",
              "      <td>0.054022</td>\n",
              "      <td>106.140399</td>\n",
              "      <td>28.894560</td>\n",
              "      <td>0.048738</td>\n",
              "    </tr>\n",
              "    <tr>\n",
              "      <th>std</th>\n",
              "      <td>22.613575</td>\n",
              "      <td>0.296633</td>\n",
              "      <td>0.226084</td>\n",
              "      <td>45.285004</td>\n",
              "      <td>7.698235</td>\n",
              "      <td>0.215340</td>\n",
              "    </tr>\n",
              "    <tr>\n",
              "      <th>min</th>\n",
              "      <td>0.080000</td>\n",
              "      <td>0.000000</td>\n",
              "      <td>0.000000</td>\n",
              "      <td>55.120000</td>\n",
              "      <td>10.300000</td>\n",
              "      <td>0.000000</td>\n",
              "    </tr>\n",
              "    <tr>\n",
              "      <th>25%</th>\n",
              "      <td>25.000000</td>\n",
              "      <td>0.000000</td>\n",
              "      <td>0.000000</td>\n",
              "      <td>77.240000</td>\n",
              "      <td>23.800000</td>\n",
              "      <td>0.000000</td>\n",
              "    </tr>\n",
              "    <tr>\n",
              "      <th>50%</th>\n",
              "      <td>45.000000</td>\n",
              "      <td>0.000000</td>\n",
              "      <td>0.000000</td>\n",
              "      <td>91.880000</td>\n",
              "      <td>28.400000</td>\n",
              "      <td>0.000000</td>\n",
              "    </tr>\n",
              "    <tr>\n",
              "      <th>75%</th>\n",
              "      <td>61.000000</td>\n",
              "      <td>0.000000</td>\n",
              "      <td>0.000000</td>\n",
              "      <td>114.090000</td>\n",
              "      <td>32.800000</td>\n",
              "      <td>0.000000</td>\n",
              "    </tr>\n",
              "    <tr>\n",
              "      <th>max</th>\n",
              "      <td>82.000000</td>\n",
              "      <td>1.000000</td>\n",
              "      <td>1.000000</td>\n",
              "      <td>271.740000</td>\n",
              "      <td>97.600000</td>\n",
              "      <td>1.000000</td>\n",
              "    </tr>\n",
              "  </tbody>\n",
              "</table>\n",
              "</div>"
            ],
            "text/plain": [
              "               age  hypertension  ...          bmi       stroke\n",
              "count  5109.000000   5109.000000  ...  5109.000000  5109.000000\n",
              "mean     43.229986      0.097475  ...    28.894560     0.048738\n",
              "std      22.613575      0.296633  ...     7.698235     0.215340\n",
              "min       0.080000      0.000000  ...    10.300000     0.000000\n",
              "25%      25.000000      0.000000  ...    23.800000     0.000000\n",
              "50%      45.000000      0.000000  ...    28.400000     0.000000\n",
              "75%      61.000000      0.000000  ...    32.800000     0.000000\n",
              "max      82.000000      1.000000  ...    97.600000     1.000000\n",
              "\n",
              "[8 rows x 6 columns]"
            ]
          },
          "metadata": {},
          "execution_count": 16
        }
      ]
    },
    {
      "cell_type": "markdown",
      "metadata": {
        "id": "993a1594"
      },
      "source": [
        "Observemos los datos atípicos"
      ],
      "id": "993a1594"
    },
    {
      "cell_type": "code",
      "metadata": {
        "id": "a8552a41"
      },
      "source": [
        "import bokeh as bkh\n",
        "import numpy as np\n",
        "import pandas as pd\n",
        "from matplotlib import pyplot as plt\n",
        "import seaborn as sns\n",
        "%matplotlib inline\n",
        "import statistics as st\n",
        "\n",
        "\n",
        "def plot_data(df, col_x, col_y, label_x, label_y, val_title):\n",
        "    # Imprime gráfica de dispersión. \n",
        "    \n",
        "    plt.figure(figsize=(7,7))\n",
        "    plt.scatter(x=df[col_x],y=df[col_y])\n",
        "    plt.xlabel(label_x)\n",
        "    plt.ylabel(label_y)\n",
        "    plt.title(val_title)\n",
        "    plt.show()\n",
        "    "
      ],
      "id": "a8552a41",
      "execution_count": 17,
      "outputs": []
    },
    {
      "cell_type": "markdown",
      "metadata": {
        "id": "bfc0b35a"
      },
      "source": [
        "Notamos que en relación de age y el nivel de glucosa promedio no encontramos valores extremos, por lo que decidimos no eliminar valores."
      ],
      "id": "bfc0b35a"
    },
    {
      "cell_type": "code",
      "metadata": {
        "colab": {
          "base_uri": "https://localhost:8080/",
          "height": 458
        },
        "id": "7ae30def",
        "outputId": "f327faad-f5f1-4002-eb30-678c5a54ce24"
      },
      "source": [
        "plot_data(data, 'age', 'avg_glucose_level', 'age', 'avg_glucose_level',\n",
        "          'Relación avg_glucose_level - age') "
      ],
      "id": "7ae30def",
      "execution_count": 18,
      "outputs": [
        {
          "output_type": "display_data",
          "data": {
            "image/png": "[encoded data removed]",
            "text/plain": [
              "<Figure size 504x504 with 1 Axes>"
            ]
          },
          "metadata": {
            "needs_background": "light"
          }
        }
      ]
    },
    {
      "cell_type": "code",
      "metadata": {
        "colab": {
          "base_uri": "https://localhost:8080/",
          "height": 458
        },
        "id": "f2c27704",
        "outputId": "4e395da8-1dbf-4bbc-c504-2ba710d636f3"
      },
      "source": [
        "plot_data(data, 'bmi', 'avg_glucose_level', 'bmi', 'avg_glucose_level',\n",
        "          'Relación avg_glucose_level - bmi')\n",
        "data=data[data.bmi <=70]"
      ],
      "id": "f2c27704",
      "execution_count": 19,
      "outputs": [
        {
          "output_type": "display_data",
          "data": {
            "image/png": "[encoded data removed]",
            "text/plain": [
              "<Figure size 504x504 with 1 Axes>"
            ]
          },
          "metadata": {
            "needs_background": "light"
          }
        }
      ]
    },
    {
      "cell_type": "markdown",
      "metadata": {
        "id": "2ae70bbe"
      },
      "source": [
        "Sin embargo, para la comparacion de los niveles de glucosa y el bmi, si hay algunos valores extremos. Eliminamos los mayores a 70."
      ],
      "id": "2ae70bbe"
    },
    {
      "cell_type": "code",
      "metadata": {
        "colab": {
          "base_uri": "https://localhost:8080/",
          "height": 458
        },
        "id": "6ed5ce64",
        "outputId": "a6041bc4-2125-492f-e9cf-153834281811"
      },
      "source": [
        "plot_data(data, 'bmi', 'avg_glucose_level', 'bmi', 'avg_glucose_level',\n",
        "          'Relación avg_glucose_level - bmi')"
      ],
      "id": "6ed5ce64",
      "execution_count": 20,
      "outputs": [
        {
          "output_type": "display_data",
          "data": {
            "image/png": "[encoded data removed]",
            "text/plain": [
              "<Figure size 504x504 with 1 Axes>"
            ]
          },
          "metadata": {
            "needs_background": "light"
          }
        }
      ]
    },
    {
      "cell_type": "markdown",
      "metadata": {
        "id": "66174725"
      },
      "source": [
        "El gráfico  de calor nos destaca las correlaciones entre todas las variables, donde colores más fuertes representan correlacciones más altas, siendo azul correlación negativa y rojo positiva.\n",
        "\n",
        "Si queremos crear este gráfico solo es necesario utilizar la función con nuestros datos."
      ],
      "id": "66174725"
    },
    {
      "cell_type": "code",
      "metadata": {
        "colab": {
          "base_uri": "https://localhost:8080/",
          "height": 596
        },
        "id": "b3a5169e",
        "outputId": "e40af59f-bd0a-4b62-9aa4-4d62e167f5e8"
      },
      "source": [
        "def correlation_heatmap(df1):\n",
        "    _,ax=plt.subplots(figsize=(15,10))\n",
        "    colormap=sns.diverging_palette(220,10,as_cmap=True)\n",
        "    sns.heatmap(data.corr(),annot=True,cmap=colormap)\n",
        "    \n",
        "correlation_heatmap(data)"
      ],
      "id": "b3a5169e",
      "execution_count": 21,
      "outputs": [
        {
          "output_type": "display_data",
          "data": {
            "image/png": "[encoded data removed]",
            "text/plain": [
              "<Figure size 1080x720 with 2 Axes>"
            ]
          },
          "metadata": {
            "needs_background": "light"
          }
        }
      ]
    },
    {
      "cell_type": "markdown",
      "metadata": {
        "id": "3367c7e0"
      },
      "source": [
        "Vemos que no hay correlaciones muy fuertes, asi que no eliminamos ninguna variable."
      ],
      "id": "3367c7e0"
    },
    {
      "cell_type": "code",
      "metadata": {
        "id": "0a522bc9"
      },
      "source": [
        "import numpy as np\n",
        "import pandas as pd\n",
        "import matplotlib.pyplot as plt\n",
        "import seaborn as sns\n",
        "import scipy.stats as stats"
      ],
      "id": "0a522bc9",
      "execution_count": 22,
      "outputs": []
    },
    {
      "cell_type": "code",
      "metadata": {
        "id": "80856f11"
      },
      "source": [
        "import numpy as np\n",
        "import tensorflow as tf\n",
        "import keras\n",
        "from keras.utils import np_utils"
      ],
      "id": "80856f11",
      "execution_count": 23,
      "outputs": []
    },
    {
      "cell_type": "markdown",
      "metadata": {
        "id": "4b1YgRu8Oo2T"
      },
      "source": [
        "Se realiza el One-hot encode con las X y se normalizan age, avg_glucose_level y bmi."
      ],
      "id": "4b1YgRu8Oo2T"
    },
    {
      "cell_type": "code",
      "metadata": {
        "colab": {
          "base_uri": "https://localhost:8080/",
          "height": 241
        },
        "id": "hxQv1EretpQc",
        "outputId": "922b982e-b102-403e-b322-4135506004a4"
      },
      "source": [
        "featuresX=[\"gender\",\"age\",\"hypertension\",\"heart_disease\",\"ever_married\",\"work_type\",\"Residence_type\",\"avg_glucose_level\",\n",
        "          \"bmi\",\"smoking_status\"]\n",
        "\n",
        "processed_dataX=data[featuresX]\n",
        "processed_dataX= pd.get_dummies(processed_dataX, columns=['gender',\"ever_married\",'work_type','Residence_type','smoking_status'])\n",
        "processed_dataX[\"age\"] = processed_dataX[\"age\"]/82\n",
        "processed_dataX[\"avg_glucose_level\"] = processed_dataX[\"avg_glucose_level\"]/271.74\n",
        "processed_dataX[\"bmi\"] = processed_dataX[\"bmi\"]/66.8\n",
        "\n",
        "processed_dataX.head()"
      ],
      "id": "hxQv1EretpQc",
      "execution_count": 25,
      "outputs": [
        {
          "output_type": "execute_result",
          "data": {
            "text/html": [
              "<div>\n",
              "<style scoped>\n",
              "    .dataframe tbody tr th:only-of-type {\n",
              "        vertical-align: middle;\n",
              "    }\n",
              "\n",
              "    .dataframe tbody tr th {\n",
              "        vertical-align: top;\n",
              "    }\n",
              "\n",
              "    .dataframe thead th {\n",
              "        text-align: right;\n",
              "    }\n",
              "</style>\n",
              "<table border=\"1\" class=\"dataframe\">\n",
              "  <thead>\n",
              "    <tr style=\"text-align: right;\">\n",
              "      <th></th>\n",
              "      <th>age</th>\n",
              "      <th>hypertension</th>\n",
              "      <th>heart_disease</th>\n",
              "      <th>avg_glucose_level</th>\n",
              "      <th>bmi</th>\n",
              "      <th>gender_Female</th>\n",
              "      <th>gender_Male</th>\n",
              "      <th>ever_married_No</th>\n",
              "      <th>ever_married_Yes</th>\n",
              "      <th>work_type_Govt_job</th>\n",
              "      <th>work_type_Never_worked</th>\n",
              "      <th>work_type_Private</th>\n",
              "      <th>work_type_Self-employed</th>\n",
              "      <th>work_type_children</th>\n",
              "      <th>Residence_type_Rural</th>\n",
              "      <th>Residence_type_Urban</th>\n",
              "      <th>smoking_status_Unknown</th>\n",
              "      <th>smoking_status_formerly smoked</th>\n",
              "      <th>smoking_status_never smoked</th>\n",
              "      <th>smoking_status_smokes</th>\n",
              "    </tr>\n",
              "  </thead>\n",
              "  <tbody>\n",
              "    <tr>\n",
              "      <th>0</th>\n",
              "      <td>0.817073</td>\n",
              "      <td>0</td>\n",
              "      <td>1</td>\n",
              "      <td>0.841577</td>\n",
              "      <td>0.547904</td>\n",
              "      <td>0</td>\n",
              "      <td>1</td>\n",
              "      <td>0</td>\n",
              "      <td>1</td>\n",
              "      <td>0</td>\n",
              "      <td>0</td>\n",
              "      <td>1</td>\n",
              "      <td>0</td>\n",
              "      <td>0</td>\n",
              "      <td>0</td>\n",
              "      <td>1</td>\n",
              "      <td>0</td>\n",
              "      <td>1</td>\n",
              "      <td>0</td>\n",
              "      <td>0</td>\n",
              "    </tr>\n",
              "    <tr>\n",
              "      <th>1</th>\n",
              "      <td>0.743902</td>\n",
              "      <td>0</td>\n",
              "      <td>0</td>\n",
              "      <td>0.744130</td>\n",
              "      <td>0.432553</td>\n",
              "      <td>1</td>\n",
              "      <td>0</td>\n",
              "      <td>0</td>\n",
              "      <td>1</td>\n",
              "      <td>0</td>\n",
              "      <td>0</td>\n",
              "      <td>0</td>\n",
              "      <td>1</td>\n",
              "      <td>0</td>\n",
              "      <td>1</td>\n",
              "      <td>0</td>\n",
              "      <td>0</td>\n",
              "      <td>0</td>\n",
              "      <td>1</td>\n",
              "      <td>0</td>\n",
              "    </tr>\n",
              "    <tr>\n",
              "      <th>2</th>\n",
              "      <td>0.975610</td>\n",
              "      <td>0</td>\n",
              "      <td>1</td>\n",
              "      <td>0.389784</td>\n",
              "      <td>0.486527</td>\n",
              "      <td>0</td>\n",
              "      <td>1</td>\n",
              "      <td>0</td>\n",
              "      <td>1</td>\n",
              "      <td>0</td>\n",
              "      <td>0</td>\n",
              "      <td>1</td>\n",
              "      <td>0</td>\n",
              "      <td>0</td>\n",
              "      <td>1</td>\n",
              "      <td>0</td>\n",
              "      <td>0</td>\n",
              "      <td>0</td>\n",
              "      <td>1</td>\n",
              "      <td>0</td>\n",
              "    </tr>\n",
              "    <tr>\n",
              "      <th>3</th>\n",
              "      <td>0.597561</td>\n",
              "      <td>0</td>\n",
              "      <td>0</td>\n",
              "      <td>0.630124</td>\n",
              "      <td>0.514970</td>\n",
              "      <td>1</td>\n",
              "      <td>0</td>\n",
              "      <td>0</td>\n",
              "      <td>1</td>\n",
              "      <td>0</td>\n",
              "      <td>0</td>\n",
              "      <td>1</td>\n",
              "      <td>0</td>\n",
              "      <td>0</td>\n",
              "      <td>0</td>\n",
              "      <td>1</td>\n",
              "      <td>0</td>\n",
              "      <td>0</td>\n",
              "      <td>0</td>\n",
              "      <td>1</td>\n",
              "    </tr>\n",
              "    <tr>\n",
              "      <th>4</th>\n",
              "      <td>0.963415</td>\n",
              "      <td>1</td>\n",
              "      <td>0</td>\n",
              "      <td>0.640760</td>\n",
              "      <td>0.359281</td>\n",
              "      <td>1</td>\n",
              "      <td>0</td>\n",
              "      <td>0</td>\n",
              "      <td>1</td>\n",
              "      <td>0</td>\n",
              "      <td>0</td>\n",
              "      <td>0</td>\n",
              "      <td>1</td>\n",
              "      <td>0</td>\n",
              "      <td>1</td>\n",
              "      <td>0</td>\n",
              "      <td>0</td>\n",
              "      <td>0</td>\n",
              "      <td>1</td>\n",
              "      <td>0</td>\n",
              "    </tr>\n",
              "  </tbody>\n",
              "</table>\n",
              "</div>"
            ],
            "text/plain": [
              "        age  hypertension  ...  smoking_status_never smoked  smoking_status_smokes\n",
              "0  0.817073             0  ...                            0                      0\n",
              "1  0.743902             0  ...                            1                      0\n",
              "2  0.975610             0  ...                            1                      0\n",
              "3  0.597561             0  ...                            0                      1\n",
              "4  0.963415             1  ...                            1                      0\n",
              "\n",
              "[5 rows x 20 columns]"
            ]
          },
          "metadata": {},
          "execution_count": 25
        }
      ]
    },
    {
      "cell_type": "code",
      "metadata": {
        "id": "ae454e47",
        "colab": {
          "base_uri": "https://localhost:8080/"
        },
        "outputId": "7cf06b15-24e9-4f14-bfb0-51b9be92decb"
      },
      "source": [
        "# Splitting the data input into X, and the labels y \n",
        "\n",
        "X = np.array(processed_dataX)[:,0:]\n",
        "X = X.astype('float32')\n",
        "y = tf.keras.utils.to_categorical(data[\"stroke\"],2)\n",
        "\n",
        "print(y)\n",
        "print(X)"
      ],
      "id": "ae454e47",
      "execution_count": 26,
      "outputs": [
        {
          "output_type": "stream",
          "name": "stdout",
          "text": [
            "[[0. 1.]\n",
            " [0. 1.]\n",
            " [0. 1.]\n",
            " ...\n",
            " [1. 0.]\n",
            " [1. 0.]\n",
            " [1. 0.]]\n",
            "[[0.81707317 0.         1.         ... 1.         0.         0.        ]\n",
            " [0.74390244 0.         0.         ... 0.         1.         0.        ]\n",
            " [0.9756098  0.         1.         ... 0.         1.         0.        ]\n",
            " ...\n",
            " [0.42682928 0.         0.         ... 0.         1.         0.        ]\n",
            " [0.6219512  0.         0.         ... 1.         0.         0.        ]\n",
            " [0.5365854  0.         0.         ... 0.         0.         0.        ]]\n"
          ]
        }
      ]
    },
    {
      "cell_type": "code",
      "metadata": {
        "colab": {
          "base_uri": "https://localhost:8080/"
        },
        "id": "6aa8e566",
        "outputId": "fcce3a8d-2383-46c4-813a-aa54b12879d5"
      },
      "source": [
        "# Checking that the input and output look correct\n",
        "print(\"Shape of X:\", X.shape)\n",
        "print(\"\\nShape of y:\", y.shape)\n",
        "print(\"\\nFirst 10 rows of X\")\n",
        "print(X[:10])\n",
        "print(\"\\nFirst 10 rows of y\")\n",
        "print(y[:10])"
      ],
      "id": "6aa8e566",
      "execution_count": 27,
      "outputs": [
        {
          "output_type": "stream",
          "name": "stdout",
          "text": [
            "Shape of X: (5105, 20)\n",
            "\n",
            "Shape of y: (5105, 2)\n",
            "\n",
            "First 10 rows of X\n",
            "[[0.81707317 0.         1.         0.8415765  0.5479042  0.\n",
            "  1.         0.         1.         0.         0.         1.\n",
            "  0.         0.         0.         1.         0.         1.\n",
            "  0.         0.        ]\n",
            " [0.74390244 0.         0.         0.74413043 0.4325533  1.\n",
            "  0.         0.         1.         0.         0.         0.\n",
            "  1.         0.         1.         0.         0.         0.\n",
            "  1.         0.        ]\n",
            " [0.9756098  0.         1.         0.38978437 0.48652694 0.\n",
            "  1.         0.         1.         0.         0.         1.\n",
            "  0.         0.         1.         0.         0.         0.\n",
            "  1.         0.        ]\n",
            " [0.597561   0.         0.         0.6301244  0.51497006 1.\n",
            "  0.         0.         1.         0.         0.         1.\n",
            "  0.         0.         0.         1.         0.         0.\n",
            "  0.         1.        ]\n",
            " [0.9634146  1.         0.         0.6407595  0.35928145 1.\n",
            "  0.         0.         1.         0.         0.         0.\n",
            "  1.         0.         1.         0.         0.         0.\n",
            "  1.         0.        ]\n",
            " [0.9878049  0.         0.         0.6852506  0.43413174 0.\n",
            "  1.         0.         1.         0.         0.         1.\n",
            "  0.         0.         0.         1.         0.         1.\n",
            "  0.         0.        ]\n",
            " [0.902439   1.         1.         0.25793037 0.41017964 0.\n",
            "  1.         0.         1.         0.         0.         1.\n",
            "  0.         0.         1.         0.         0.         0.\n",
            "  1.         0.        ]\n",
            " [0.8414634  0.         0.         0.34735408 0.34131736 1.\n",
            "  0.         1.         0.         0.         0.         1.\n",
            "  0.         0.         0.         1.         0.         0.\n",
            "  1.         0.        ]\n",
            " [0.7195122  0.         0.         0.2802311  0.4325533  1.\n",
            "  0.         0.         1.         0.         0.         1.\n",
            "  0.         0.         1.         0.         1.         0.\n",
            "  0.         0.        ]\n",
            " [0.9512195  0.         0.         0.2155369  0.36227545 1.\n",
            "  0.         0.         1.         0.         0.         1.\n",
            "  0.         0.         0.         1.         1.         0.\n",
            "  0.         0.        ]]\n",
            "\n",
            "First 10 rows of y\n",
            "[[0. 1.]\n",
            " [0. 1.]\n",
            " [0. 1.]\n",
            " [0. 1.]\n",
            " [0. 1.]\n",
            " [0. 1.]\n",
            " [0. 1.]\n",
            " [0. 1.]\n",
            " [0. 1.]\n",
            " [0. 1.]]\n"
          ]
        }
      ]
    },
    {
      "cell_type": "markdown",
      "metadata": {
        "id": "wypJnVxNh63l"
      },
      "source": [
        "#### 3. Particion de los datos en training y testing\n",
        "\n",
        "Se decide realizar la partición con 1021 debido a que es el 20% de nuestros datos."
      ],
      "id": "wypJnVxNh63l"
    },
    {
      "cell_type": "code",
      "metadata": {
        "colab": {
          "base_uri": "https://localhost:8080/"
        },
        "id": "cIrCMOoEiVqC",
        "outputId": "992fbb46-fad1-404e-f0a3-6da2996a7f86"
      },
      "source": [
        "\n",
        "# break training set into training and validation sets\n",
        "(X_train, X_test) = X[1021:], X[:1021]\n",
        "(y_train, y_test) = y[1021:], y[:1021]\n",
        "\n",
        "# print shape of training set\n",
        "print('x_train shape:', X_train.shape)\n",
        "\n",
        "# print number of training, validation, and test images\n",
        "print(X_train.shape[0], 'train samples')\n",
        "print(X_test.shape[0], 'test samples')"
      ],
      "id": "cIrCMOoEiVqC",
      "execution_count": 28,
      "outputs": [
        {
          "output_type": "stream",
          "name": "stdout",
          "text": [
            "x_train shape: (4084, 20)\n",
            "4084 train samples\n",
            "1021 test samples\n"
          ]
        }
      ]
    },
    {
      "cell_type": "markdown",
      "metadata": {
        "id": "DYUy_wqHl76b"
      },
      "source": [
        "#### 4. Definición de la arquitectura de la red neuronal:"
      ],
      "id": "DYUy_wqHl76b"
    },
    {
      "cell_type": "code",
      "metadata": {
        "colab": {
          "base_uri": "https://localhost:8080/"
        },
        "id": "kanelGXYirrW",
        "outputId": "7f6edb4a-a57f-47fc-dd1d-da6e08995f6d"
      },
      "source": [
        "import numpy as np\n",
        "from keras.models import Sequential\n",
        "from keras.layers.core import Dense, Dropout, Activation\n",
        "import tensorflow as tf\n",
        "from tensorflow import keras\n",
        "from tensorflow.keras.optimizers import SGD\n",
        "# Building the model\n",
        "\n",
        "model = Sequential()\n",
        "\n",
        "model.add(Dense(128, input_dim=20))\n",
        "model.add(Activation('relu'))\n",
        "\n",
        "model.add(Dense(64))\n",
        "model.add(Activation('relu'))\n",
        "\n",
        "model.add(Dense(2))\n",
        "model.add(Activation('sigmoid'))\n",
        "\n",
        "# Compiling the model\n",
        "model.compile(loss = 'categorical_crossentropy', optimizer='adam', metrics=['accuracy'])\n",
        "\n",
        "model.summary()"
      ],
      "id": "kanelGXYirrW",
      "execution_count": 29,
      "outputs": [
        {
          "output_type": "stream",
          "name": "stdout",
          "text": [
            "Model: \"sequential\"\n",
            "_________________________________________________________________\n",
            "Layer (type)                 Output Shape              Param #   \n",
            "=================================================================\n",
            "dense (Dense)                (None, 128)               2688      \n",
            "_________________________________________________________________\n",
            "activation (Activation)      (None, 128)               0         \n",
            "_________________________________________________________________\n",
            "dense_1 (Dense)              (None, 64)                8256      \n",
            "_________________________________________________________________\n",
            "activation_1 (Activation)    (None, 64)                0         \n",
            "_________________________________________________________________\n",
            "dense_2 (Dense)              (None, 2)                 130       \n",
            "_________________________________________________________________\n",
            "activation_2 (Activation)    (None, 2)                 0         \n",
            "=================================================================\n",
            "Total params: 11,074\n",
            "Trainable params: 11,074\n",
            "Non-trainable params: 0\n",
            "_________________________________________________________________\n"
          ]
        }
      ]
    },
    {
      "cell_type": "markdown",
      "metadata": {
        "id": "4I1dbo-NmMd1"
      },
      "source": [
        "#### 5. Entrenamiento del modelo:\n",
        "\n",
        "Para el entrenamiento del modelo se define inicialmente epoc=500 y batch size=1000, se disminuyen ambos y se obtiene el mismo accuracy pero una pérdida menor."
      ],
      "id": "4I1dbo-NmMd1"
    },
    {
      "cell_type": "code",
      "metadata": {
        "colab": {
          "base_uri": "https://localhost:8080/"
        },
        "id": "jkEAZ4qRl04L",
        "outputId": "0c14422d-18a5-45e8-b7db-666429b31d40"
      },
      "source": [
        "# Training the model\n",
        "model.fit(X_train, y_train, epochs=500, batch_size=1000, verbose=0)"
      ],
      "id": "jkEAZ4qRl04L",
      "execution_count": 48,
      "outputs": [
        {
          "output_type": "execute_result",
          "data": {
            "text/plain": [
              "<keras.callbacks.History at 0x7fb9c4beef10>"
            ]
          },
          "metadata": {},
          "execution_count": 48
        }
      ]
    },
    {
      "cell_type": "code",
      "metadata": {
        "colab": {
          "base_uri": "https://localhost:8080/"
        },
        "id": "IZC1JggIZuOT",
        "outputId": "6fb50cc8-cabf-41d4-c04c-4bd70802b2c1"
      },
      "source": [
        "# Evaluating the model on the training and testing set\n",
        "score = model.evaluate(X_train, y_train)\n",
        "print(\"\\n Training Accuracy:\", score[1])\n",
        "score = model.evaluate(X_test, y_test)\n",
        "print(\"\\n Testing Accuracy:\", score[1])"
      ],
      "id": "IZC1JggIZuOT",
      "execution_count": 49,
      "outputs": [
        {
          "output_type": "stream",
          "name": "stdout",
          "text": [
            "128/128 [==============================] - 0s 1ms/step - loss: 0.0000e+00 - accuracy: 1.0000\n",
            "\n",
            " Training Accuracy: 1.0\n",
            "32/32 [==============================] - 0s 1ms/step - loss: 5.9270 - accuracy: 0.7561 \n",
            "\n",
            " Testing Accuracy: 0.7561214566230774\n"
          ]
        }
      ]
    },
    {
      "cell_type": "code",
      "metadata": {
        "colab": {
          "base_uri": "https://localhost:8080/"
        },
        "id": "sZKbFQhf7iye",
        "outputId": "a0b9ccd7-0667-48c5-9f6b-bcdeb5461fb3"
      },
      "source": [
        "model.fit(X_train, y_train, epochs=200, batch_size=100, verbose=0)"
      ],
      "id": "sZKbFQhf7iye",
      "execution_count": 31,
      "outputs": [
        {
          "output_type": "execute_result",
          "data": {
            "text/plain": [
              "<keras.callbacks.History at 0x7fb9c3697050>"
            ]
          },
          "metadata": {},
          "execution_count": 31
        }
      ]
    },
    {
      "cell_type": "code",
      "metadata": {
        "colab": {
          "base_uri": "https://localhost:8080/"
        },
        "id": "H7D97sXv46y3",
        "outputId": "162a07a8-df3c-4428-8238-85b9b1b30bea"
      },
      "source": [
        "# Evaluating the model on the training and testing set\n",
        "score = model.evaluate(X_train, y_train)\n",
        "print(\"\\n Training Accuracy:\", score[1])\n",
        "score = model.evaluate(X_test, y_test)\n",
        "print(\"\\n Testing Accuracy:\", score[1])"
      ],
      "id": "H7D97sXv46y3",
      "execution_count": 32,
      "outputs": [
        {
          "output_type": "stream",
          "name": "stdout",
          "text": [
            "128/128 [==============================] - 0s 1ms/step - loss: 0.0000e+00 - accuracy: 1.0000\n",
            "\n",
            " Training Accuracy: 1.0\n",
            "32/32 [==============================] - 0s 1ms/step - loss: 5.5758 - accuracy: 0.7561 \n",
            "\n",
            " Testing Accuracy: 0.7561214566230774\n"
          ]
        }
      ]
    },
    {
      "cell_type": "markdown",
      "metadata": {
        "id": "0Z7zf7XQT15P"
      },
      "source": [
        "Se procede a realizar un modelo con distinta activación (tanh) y optimizador (rmsprop)"
      ],
      "id": "0Z7zf7XQT15P"
    },
    {
      "cell_type": "code",
      "metadata": {
        "id": "GsznAWzbm2Dd",
        "colab": {
          "base_uri": "https://localhost:8080/"
        },
        "outputId": "ef2b560a-a20a-436c-94e9-dddd2f26df9a"
      },
      "source": [
        "model2 = Sequential()\n",
        "\n",
        "model2.add(Dense(128, input_dim=20))\n",
        "model2.add(Activation('tanh'))\n",
        "model2.add(Dropout(.3)) # now using dropout\n",
        "\n",
        "model2.add(Dense(64))\n",
        "model2.add(Activation('tanh'))\n",
        "model2.add(Dropout(.2)) # now using dropout\n",
        "\n",
        "model2.add(Dense(32))\n",
        "model2.add(Activation('tanh'))\n",
        "model2.add(Dropout(.1)) # now using dropout\n",
        "\n",
        "model2.add(Dense(2))\n",
        "model2.add(Activation('sigmoid'))\n",
        "\n",
        "model2.compile(loss = 'categorical_crossentropy', optimizer='rmsprop', metrics=['accuracy'])\n",
        "model2.summary()"
      ],
      "id": "GsznAWzbm2Dd",
      "execution_count": 33,
      "outputs": [
        {
          "output_type": "stream",
          "name": "stdout",
          "text": [
            "Model: \"sequential_1\"\n",
            "_________________________________________________________________\n",
            "Layer (type)                 Output Shape              Param #   \n",
            "=================================================================\n",
            "dense_3 (Dense)              (None, 128)               2688      \n",
            "_________________________________________________________________\n",
            "activation_3 (Activation)    (None, 128)               0         \n",
            "_________________________________________________________________\n",
            "dropout (Dropout)            (None, 128)               0         \n",
            "_________________________________________________________________\n",
            "dense_4 (Dense)              (None, 64)                8256      \n",
            "_________________________________________________________________\n",
            "activation_4 (Activation)    (None, 64)                0         \n",
            "_________________________________________________________________\n",
            "dropout_1 (Dropout)          (None, 64)                0         \n",
            "_________________________________________________________________\n",
            "dense_5 (Dense)              (None, 32)                2080      \n",
            "_________________________________________________________________\n",
            "activation_5 (Activation)    (None, 32)                0         \n",
            "_________________________________________________________________\n",
            "dropout_2 (Dropout)          (None, 32)                0         \n",
            "_________________________________________________________________\n",
            "dense_6 (Dense)              (None, 2)                 66        \n",
            "_________________________________________________________________\n",
            "activation_6 (Activation)    (None, 2)                 0         \n",
            "=================================================================\n",
            "Total params: 13,090\n",
            "Trainable params: 13,090\n",
            "Non-trainable params: 0\n",
            "_________________________________________________________________\n"
          ]
        }
      ]
    },
    {
      "cell_type": "markdown",
      "metadata": {
        "id": "USJ7-m_5a0Tb"
      },
      "source": [
        "El modelo utiliza el mismo epoch y batch del ejemplo anterior debido a que obtuvo una pérdida menor.\n",
        "Podemos observar que el accuracy se mantiene alto y la pérdida aumenta con respecto al modelo anterior."
      ],
      "id": "USJ7-m_5a0Tb"
    },
    {
      "cell_type": "code",
      "metadata": {
        "colab": {
          "base_uri": "https://localhost:8080/"
        },
        "id": "Qu6bs9F48Md1",
        "outputId": "952d41ec-9dc6-4b0b-b774-75ec54d09f8b"
      },
      "source": [
        "model2.fit(X_train, y_train, epochs=200, batch_size=100, verbose=0)"
      ],
      "id": "Qu6bs9F48Md1",
      "execution_count": 50,
      "outputs": [
        {
          "output_type": "execute_result",
          "data": {
            "text/plain": [
              "<keras.callbacks.History at 0x7fb9c4980d50>"
            ]
          },
          "metadata": {},
          "execution_count": 50
        }
      ]
    },
    {
      "cell_type": "code",
      "metadata": {
        "colab": {
          "base_uri": "https://localhost:8080/"
        },
        "id": "GeHACEix8YrR",
        "outputId": "b9b8cc08-7391-47f6-e7f9-d93476b2abb1"
      },
      "source": [
        "# Evaluating the model on the training and testing set\n",
        "score = model2.evaluate(X_train, y_train)\n",
        "print(\"\\n Training Accuracy:\", score[1])\n",
        "score = model2.evaluate(X_test, y_test)\n",
        "print(\"\\n Testing Accuracy:\", score[1])"
      ],
      "id": "GeHACEix8YrR",
      "execution_count": 51,
      "outputs": [
        {
          "output_type": "stream",
          "name": "stdout",
          "text": [
            "128/128 [==============================] - 0s 1ms/step - loss: 0.0000e+00 - accuracy: 1.0000\n",
            "\n",
            " Training Accuracy: 1.0\n",
            "32/32 [==============================] - 0s 1ms/step - loss: 5.9039 - accuracy: 0.7561 \n",
            "\n",
            " Testing Accuracy: 0.7561214566230774\n"
          ]
        }
      ]
    },
    {
      "cell_type": "code",
      "metadata": {
        "id": "oklkLTNpWbd3"
      },
      "source": [
        "m1=model.fit(X_train, y_train, epochs=200, batch_size=100, verbose=0,validation_data=(X_test, y_test))\n",
        "m2=model2.fit(X_train, y_train, epochs=200, batch_size=100, verbose=0,validation_data=(X_test, y_test))"
      ],
      "id": "oklkLTNpWbd3",
      "execution_count": 52,
      "outputs": []
    },
    {
      "cell_type": "markdown",
      "metadata": {
        "id": "MJr1hZ-6h48i"
      },
      "source": [
        "Se grafica el training y validation accuracy de ambos modelos, ambos son practicamente iguales, lo mismo sucede con la pérdida, con un leve aumento en el modelo 1 al aumentar el número de epochs. "
      ],
      "id": "MJr1hZ-6h48i"
    },
    {
      "cell_type": "code",
      "metadata": {
        "colab": {
          "base_uri": "https://localhost:8080/",
          "height": 457
        },
        "id": "bz7I1ufOXYoF",
        "outputId": "79fff795-f381-45bb-c69e-b67f8fff5d6f"
      },
      "source": [
        "\n",
        "import matplotlib.gridspec as gridspec\n",
        "fig = plt.figure(constrained_layout=True)\n",
        "\n",
        "gs = gridspec.GridSpec(2, 3, figure=fig)\n",
        "fig.add_subplot(gs[0, :])\n",
        "plt.plot(m1.history['accuracy'],'r')  \n",
        "plt.plot(m1.history['val_accuracy'],'g')  \n",
        "plt.rcParams['figure.figsize'] = (8, 6)  \n",
        "plt.xlabel(\"Num of Epochs\")  \n",
        "plt.ylabel(\"Accuracy\")  \n",
        "plt.title(\"Training Accuracy vs Validation Accuracy mod 1\")  \n",
        "plt.legend(['train','validation'])\n",
        "\n",
        "fig.add_subplot(gs[1, :])\n",
        "plt.plot(m2.history['accuracy'],'r')  \n",
        "plt.plot(m2.history['val_accuracy'],'g')  \n",
        "plt.rcParams['figure.figsize'] = (8, 6)  \n",
        "plt.xlabel(\"Num of Epochs\")  \n",
        "plt.ylabel(\"Accuracy\")  \n",
        "plt.title(\"Training Accuracy vs Validation Accuracy mod 2\")  \n",
        "plt.legend(['train','validation'])\n",
        "\n",
        "\n",
        "\n",
        "plt.show()  \n",
        "\n"
      ],
      "id": "bz7I1ufOXYoF",
      "execution_count": 60,
      "outputs": [
        {
          "output_type": "display_data",
          "data": {
            "image/png": "[encoded data removed]",
            "text/plain": [
              "<Figure size 576x432 with 2 Axes>"
            ]
          },
          "metadata": {
            "needs_background": "light"
          }
        }
      ]
    },
    {
      "cell_type": "code",
      "metadata": {
        "colab": {
          "base_uri": "https://localhost:8080/",
          "height": 474
        },
        "id": "QKluoh8lgEyP",
        "outputId": "e1c9843c-76b5-43a8-e55a-25e7c68951a7"
      },
      "source": [
        "\n",
        "import matplotlib.gridspec as gridspec\n",
        "fig = plt.figure(constrained_layout=True)\n",
        "\n",
        "gs = gridspec.GridSpec(2, 3, figure=fig)\n",
        "fig.add_subplot(gs[0, :]) \n",
        "plt.plot(m1.history['loss'],'r')  \n",
        "plt.plot(m1.history['val_loss'],'g')  \n",
        "plt.rcParams['figure.figsize'] = (8, 6)  \n",
        "plt.xlabel(\"Num of Epochs\")  \n",
        "plt.ylabel(\"Loss\")  \n",
        "plt.title(\"Training Loss vs Validation Loss mod 1\")  \n",
        "plt.legend(['train','validation'])\n",
        "\n",
        "\n",
        "fig.add_subplot(gs[1, :])  \n",
        "plt.plot(m2.history['loss'],'r')  \n",
        "plt.plot(m2.history['val_loss'],'g')  \n",
        "plt.rcParams['figure.figsize'] = (8, 6)  \n",
        "plt.xlabel(\"Num of Epochs\")  \n",
        "plt.ylabel(\"Loss\")  \n",
        "plt.title(\"Training Loss vs Validation Loss mod 2\")  \n",
        "plt.legend(['train','validation'])\n",
        "\n"
      ],
      "id": "QKluoh8lgEyP",
      "execution_count": 61,
      "outputs": [
        {
          "output_type": "execute_result",
          "data": {
            "text/plain": [
              "<matplotlib.legend.Legend at 0x7fb9c1eaec10>"
            ]
          },
          "metadata": {},
          "execution_count": 61
        },
        {
          "output_type": "display_data",
          "data": {
            "image/png": "[encoded data removed]",
            "text/plain": [
              "<Figure size 576x432 with 2 Axes>"
            ]
          },
          "metadata": {
            "needs_background": "light"
          }
        }
      ]
    },
    {
      "cell_type": "markdown",
      "metadata": {
        "id": "JHSHxb1Jig9X"
      },
      "source": [
        "Podemos concluir que el modelo tiende al sobre-ajuste por tener un training accuracy tan alto. Esto se puede deber a la gran importancia de los factores de riesgo de los accidentes cerebrovasculares, como Niveles de Glucosa y las Enfermedades Cardíacas.\n",
        "\n",
        "Finalmente, comparando los resultados con los modelos de la tarea anterior podemos observar que las ANN no son el mejor modelo para estos datos, ya que con Random Forest se obtuvo un AUC alto y no cae en sobre-ajuste."
      ],
      "id": "JHSHxb1Jig9X"
    }
  ]
}